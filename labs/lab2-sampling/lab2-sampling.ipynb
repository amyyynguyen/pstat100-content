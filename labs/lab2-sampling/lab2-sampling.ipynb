{
 "cells": [
  {
   "cell_type": "code",
   "execution_count": null,
   "metadata": {
    "deletable": false,
    "editable": false
   },
   "outputs": [],
   "source": [
    "# Initialize Otter\n",
    "import otter\n",
    "grader = otter.Notebook(\"lab2-sampling.ipynb\")"
   ]
  },
  {
   "cell_type": "code",
   "execution_count": 1,
   "metadata": {},
   "outputs": [],
   "source": [
    "import numpy as np\n",
    "import pandas as pd\n",
    "import altair as alt"
   ]
  },
  {
   "cell_type": "markdown",
   "metadata": {},
   "source": [
    "# Lab 2: Sampling design and statistical bias\n",
    "\n",
    "In the following scenarios you'll explore through simulation how nonrandom sampling can produce datasets with statistical properties that are distored relative to the population that the sample was drawn from. This kind of distortion is known as **bias**. \n",
    "\n",
    "In common usage, the word 'bias' means disproportion or unfairness. In statistics, the concept has the same connotation -- biased sampling favors certain observational units over others, and biased estimates are estimates that favor larger or smaller values than the truth.\n",
    "\n",
    "This lab has you explore sampling bias. The goal is to refine your understanding about what (statistical) bias is and is not, and develop your intuition about potential mechanisms by which bias is introduced and the effect that this can have on sample statistics. \n",
    "\n",
    "### Objectives\n",
    "\n",
    "* Simulate biased and unbiased sampling designs\n",
    "* Examine the impact of sampling bias on the sample mean\n",
    "* Apply a simple bias correction by inverse probability weighting\n",
    "\n",
    "---\n",
    "\n",
    "## Background\n",
    "\n",
    "#### Sampling design\n",
    "\n",
    "The **sampling design** of a study refers to _**the way observational units are selected**_ from the sampling frame (the collection of all observable units). Any design can be expressed by the probability that each unit is included in the sample. In a random sample, all units are equally likely to be included.\n",
    "\n",
    "For example, you might want to learn about U.S. residents (population), but only be able for ethical reasons to study adults (sampling frame), and decide to do a mail survey of 2000 randomly selected addresses in each state (sampling design). (This is not a random sample of all individuals because individuals share addresses and the population sizes are different from state to state.)\n",
    "\n",
    "#### Bias\n",
    "\n",
    "Formally, **bias** describes _**the 'typical' deviation of a sample statistic (observed) from its population counterpart (unobserved)**_. \n",
    "\n",
    "For example, if a particular sampling design tends to produce an average measurement around 1.5 units, but the true average in the population is 2 units, then the estimate has a bias of -0.5 units. The language 'typical' and 'tends to' is important here. Estimates are rarely (almost never) perfect, so just because an estimate is off by -0.5 units for one sample doesn't make it biased -- it is only biased if it is *consistently* off under repeated sampling. \n",
    "\n",
    "Although bias is technically a property of a sample statistic (like the sample average), it's common to talk about a biased *sample* -- this term refers to a dataset collected using a sampling design that produces biased statistics. \n",
    "\n",
    "This is exactly what you'll explore in this lab -- the relationship between sampling design and bias.\n",
    "\n",
    "#### Simulated data\n",
    "\n",
    "You will be simulating data in this lab. **Simulation** is a great means of exploration for the present topic _**because you can control the population properties**_. \n",
    "\n",
    "When working with real data, you just have one dataset, and you don't know any of the properties of the population or what might have happened if a different sample were collected. That makes it difficult to understand sampling variation and impossible to directly compare the sample properties to the population properties! \n",
    "\n",
    "With simulated data, by contrast, you control how data are generated with exact precision -- so by extension, you know everything there is to know about the population. In addition, repeated simulation of data makes it possible to explore the typical behavior of a particular sampling design, so you can learn 'what usually happens' for a particular sampling design by direct observation.\n",
    "\n",
    "---"
   ]
  },
  {
   "cell_type": "markdown",
   "metadata": {},
   "source": [
    "## Scenario 1: unbiased samples\n",
    "\n",
    "In this scenario you'll compare the sample mean and the distribution of sample values for a single viariable with the population mean and distribution for an unbiased sampling design.\n",
    "\n",
    "### Hypothetical population\n",
    "\n",
    "To provide a little context to this scenario, imagine that you're measuring eucalyptus seeds to determine their typical diameter. The cell below simulates diameter measurements for a hypothetical population of 5000 seeds; imagine that this is the total number of seeds in a small grove at some point in time."
   ]
  },
  {
   "cell_type": "code",
   "execution_count": 2,
   "metadata": {},
   "outputs": [],
   "source": [
    "# simulate seed diameters\n",
    "np.random.seed(40221) # for reproducibility\n",
    "population = pd.DataFrame(\n",
    "    data = {'diameter': np.random.gamma(shape = 2, scale = 1/2, size = 5000), \n",
    "            'seed': np.arange(5000)}\n",
    ").set_index('seed')\n",
    "\n",
    "# check first few rows\n",
    "population.head(3)"
   ]
  },
  {
   "cell_type": "markdown",
   "metadata": {
    "deletable": false,
    "editable": false
   },
   "source": [
    "#### Question 1a\n",
    "\n",
    "Calculate the mean diameter for the hypothetical population and set it to `mean_diameter`.\n",
    "\n",
    "<!--\n",
    "BEGIN QUESTION\n",
    "name: q1_a\n",
    "points: 1\n",
    "manual: false\n",
    "-->"
   ]
  },
  {
   "cell_type": "code",
   "execution_count": 3,
   "metadata": {},
   "outputs": [],
   "source": [
    "# solution\n",
    "mean_pop_diameter = ...\n",
    "\n",
    "mean_pop_diameter"
   ]
  },
  {
   "cell_type": "code",
   "execution_count": null,
   "metadata": {
    "deletable": false,
    "editable": false
   },
   "outputs": [],
   "source": [
    "grader.check(\"q1_a\")"
   ]
  },
  {
   "cell_type": "markdown",
   "metadata": {
    "deletable": false,
    "editable": false
   },
   "source": [
    "#### Question 1b\n",
    "\n",
    "Calculate the standard deviation of diameters for the hypothetical population and set the result to `std_dev_pop_diameter`.\n",
    "\n",
    "<!--\n",
    "BEGIN QUESTION\n",
    "name: q0_b\n",
    "points: 1\n",
    "manual: false\n",
    "-->"
   ]
  },
  {
   "cell_type": "code",
   "execution_count": 6,
   "metadata": {},
   "outputs": [],
   "source": [
    "# solution\n",
    "std_dev_pop_diameter = ...\n",
    "\n",
    "std_dev_pop_diameter"
   ]
  },
  {
   "cell_type": "code",
   "execution_count": null,
   "metadata": {
    "deletable": false,
    "editable": false
   },
   "outputs": [],
   "source": [
    "grader.check(\"q0_b\")"
   ]
  },
  {
   "cell_type": "markdown",
   "metadata": {},
   "source": [
    "The cell below produces a histogram of the population values -- the distribution of diameter measurements among the hypothetical population -- with a vertical line indicating the population mean."
   ]
  },
  {
   "cell_type": "code",
   "execution_count": 9,
   "metadata": {},
   "outputs": [],
   "source": [
    "# base layer\n",
    "base_pop = alt.Chart(population).properties(width = 400, height = 300)\n",
    "\n",
    "# histogram of diameter measurements\n",
    "hist_pop = base_pop.mark_bar(opacity = 0.8).encode(\n",
    "    x = alt.X('diameter', \n",
    "              bin = alt.Bin(maxbins = 20), \n",
    "              title = 'Diameter (mm)', \n",
    "              scale = alt.Scale(domain = (0, 6))),\n",
    "    y = alt.Y('count()', title = 'Number of seeds in population')\n",
    ")\n",
    "\n",
    "# vertical line for population mean\n",
    "mean_pop = base_pop.mark_rule(color='blue').encode(\n",
    "    x = 'mean(diameter)'\n",
    ")\n",
    "\n",
    "# display\n",
    "hist_pop + mean_pop"
   ]
  },
  {
   "cell_type": "markdown",
   "metadata": {},
   "source": [
    "### Hypothetical sampling design\n",
    "\n",
    "Imagine that your sampling design involves collecting bunches of plant material from several locations in the grove and sifting out the seeds with a fine sieve until you obtaining 250 seeds. We'll suppose that using your collection method, any of the 5000 seeds is equally likely to be obtained, so that your 250 seeds comprise a *random sample* of the population. \n",
    "\n",
    "We can simulate samples obtained using your hypothetical design by drawing values without replacement from the population."
   ]
  },
  {
   "cell_type": "code",
   "execution_count": 10,
   "metadata": {},
   "outputs": [],
   "source": [
    "# draw a random sample of seeds\n",
    "np.random.seed(40221) # for reproducibility\n",
    "sample = population.sample(n = 250, replace = False)"
   ]
  },
  {
   "cell_type": "markdown",
   "metadata": {
    "deletable": false,
    "editable": false
   },
   "source": [
    "#### Question 1c.i\n",
    "\n",
    "Calculate the mean diameter of seeds in the simulated sample and set the result to `mean_sample_diameter`.\n",
    "\n",
    "<!--\n",
    "BEGIN QUESTION\n",
    "name: q1_c_i\n",
    "points: 1\n",
    "manual: false\n",
    "-->"
   ]
  },
  {
   "cell_type": "code",
   "execution_count": 11,
   "metadata": {},
   "outputs": [],
   "source": [
    "# solution\n",
    "mean_sample_diameter = ...\n",
    "\n",
    "mean_sample_diameter"
   ]
  },
  {
   "cell_type": "code",
   "execution_count": null,
   "metadata": {
    "deletable": false,
    "editable": false
   },
   "outputs": [],
   "source": [
    "grader.check(\"q1_c_i\")"
   ]
  },
  {
   "cell_type": "markdown",
   "metadata": {
    "deletable": false,
    "editable": false
   },
   "source": [
    "<!-- BEGIN QUESTION -->\n",
    "\n",
    "#### Question 1c.ii\n",
    "\n",
    "Is it close to the population mean?\n",
    "\n",
    "<!--\n",
    "BEGIN QUESTION\n",
    "name: q1_c_ii\n",
    "points: 1\n",
    "manual: true\n",
    "-->"
   ]
  },
  {
   "cell_type": "markdown",
   "metadata": {},
   "source": [
    "_Type your answer here, replacing this text._"
   ]
  },
  {
   "cell_type": "markdown",
   "metadata": {},
   "source": [
    "<!-- END QUESTION -->\n",
    "\n",
    "\n",
    "\n",
    "The cell below produces a histogram of the sample values, and displays it alongside the histogram of population values."
   ]
  },
  {
   "cell_type": "code",
   "execution_count": 14,
   "metadata": {},
   "outputs": [],
   "source": [
    "# base layer\n",
    "base_samp = alt.Chart(sample).properties(width = 400, height = 300)\n",
    "\n",
    "# histogram of diameter measurements\n",
    "hist_samp = base_samp.mark_bar(opacity = 0.8).encode(\n",
    "    x = alt.X('diameter', \n",
    "              bin = alt.Bin(maxbins = 20),\n",
    "              scale = alt.Scale(domain = (0, 6)),\n",
    "              title = 'Diameter (mm)'),\n",
    "    y = alt.Y('count()', title = 'Number of seeds in sample')\n",
    ")\n",
    "\n",
    "# vertical line for population mean\n",
    "mean_samp = base_samp.mark_rule(color='blue').encode(\n",
    "    x = 'mean(diameter)'\n",
    ")\n",
    "\n",
    "# display\n",
    "hist_samp + mean_samp | hist_pop + mean_pop"
   ]
  },
  {
   "cell_type": "markdown",
   "metadata": {},
   "source": [
    "Notice that while there are some small differences, the overall shape is similar and the sample mean is almost exactly the same as the population mean. So with this sampling design, you obtained a dataset with few distortions of the population properties, and the sample mean is a good estimate of the population mean.\n",
    "\n",
    "### Assessing bias\n",
    "\n",
    "You may wonder: *does that happen all the time, or was this just a lucky draw?* This question can be answered by simulating a large number of samples to see whether the undistorted representation of the population is typical for this sampling design. To simplify life a little, let's focus on whether the sample mean is usually accurate.\n",
    "\n",
    "The cell below estimates the bias of the sample mean by:\n",
    "\n",
    "* drawing 1000 samples of size 300;\n",
    "* storing the sample mean from each sample; \n",
    "* computing the average difference between the sample means and the population mean."
   ]
  },
  {
   "cell_type": "code",
   "execution_count": 15,
   "metadata": {},
   "outputs": [],
   "source": [
    "np.random.seed(40221) # for reproducibility\n",
    "\n",
    "# number of samples to simulate\n",
    "nsim = 1000\n",
    "\n",
    "# storage for the sample means\n",
    "samp_means = np.zeros(nsim)\n",
    "\n",
    "# repeatedly sample and store the sample mean\n",
    "for i in range(0, nsim):\n",
    "    samp_means[i] = population.sample(n = 250, replace = False).mean()"
   ]
  },
  {
   "cell_type": "markdown",
   "metadata": {},
   "source": [
    "The bias of the sample mean is its average distance from the population mean. We can estimate this using our simulation results as follows:"
   ]
  },
  {
   "cell_type": "code",
   "execution_count": 16,
   "metadata": {},
   "outputs": [],
   "source": [
    "# bias\n",
    "samp_means.mean() - population.diameter.mean()"
   ]
  },
  {
   "cell_type": "markdown",
   "metadata": {},
   "source": [
    "So the average error observed in 1000 simulations was about 0.001 mm! This suggests that the sample mean is *unbiased*: on average, there is no error. Therefore, at least with respect to estimating the population mean, random samples appear to be *unbiased samples*.\n",
    "\n",
    "However, **unbiasedness does not mean that you won't observe estimation error**. There is a natural amount of variability from sample to sample, because in each sample a different collection of seeds is measured.\n",
    "\n",
    "The cell below plots a histogram representing the distribution of values of the sample mean across the 1000 samples you simulated (this is known as the *sampling distribution* of the sample mean). It shows a peak right at the population mean (blue vertical line) but some symmetric variation to either side -- most values are between about 0.93 and 1.12."
   ]
  },
  {
   "cell_type": "code",
   "execution_count": 17,
   "metadata": {},
   "outputs": [],
   "source": [
    "# plot the simulated sampling distribution\n",
    "sampling_dist = alt.Chart(pd.DataFrame({'sample mean': samp_means})).mark_bar().encode(\n",
    "    x = alt.X('sample mean', bin = alt.Bin(maxbins = 30), title = 'Value of sample mean'),\n",
    "    y = alt.Y('count()', title = 'Number of simulations')\n",
    ")\n",
    "\n",
    "sampling_dist + mean_pop"
   ]
  },
  {
   "cell_type": "markdown",
   "metadata": {},
   "source": [
    "---\n",
    "\n",
    "## Scenario 2: biased sampling\n",
    "\n",
    "In this scenario, you'll use the same hypothetical population of eucalyptus seed diameter measurements and explore the impact of a biased sampling design.\n",
    "\n",
    "### Hypothetical sampling design\n",
    "\n",
    "In the first design, you were asked to imagine that you collected and sifted plant material to obtain seeds. Suppose you didn't know that the typical seed is about 1mm in diameter and decided to use a sieve that is a little too coarse, tending only to sift out larger seeds and letting smaller seeds pass through. As a result, small seeds have a lower probability of being included in the sample and large seeds have a higher probability of being included in the sample. \n",
    "\n",
    "This kind of sampling design can be described by assigning differential *sampling weights* $w_1, \\dots, w_N$ to each observation. The cell below defines a `weight_fn` that calculates a weight $w_i$ between 0 and 1 according to diameter, so that larger diameters have larger weights and are more likely to be sampled."
   ]
  },
  {
   "cell_type": "code",
   "execution_count": 18,
   "metadata": {},
   "outputs": [],
   "source": [
    "population_mod1 = population.copy()"
   ]
  },
  {
   "cell_type": "code",
   "execution_count": 19,
   "metadata": {
    "tags": []
   },
   "outputs": [],
   "source": [
    "# inclusion weight as a function of seed diameter\n",
    "def weight_fn(x, r = 2, c = 2):\n",
    "    out = 1/(1 + np.e**(-r*(x - c)))\n",
    "    return out\n",
    "\n",
    "# create a grid of values to use in plotting the function\n",
    "grid = np.linspace(0, 6, 100)\n",
    "weight_df = pd.DataFrame(\n",
    "    {'seed diameter': grid,\n",
    "     'weight': weight_fn(grid)}\n",
    ")\n",
    "\n",
    "# plot of inclusion probability against diameter\n",
    "weight_plot = alt.Chart(weight_df).mark_area(opacity = 0.3, line = True).encode(\n",
    "    x = 'seed diameter',\n",
    "    y = 'weight'\n",
    ").properties(height = 100)\n",
    "\n",
    "# show plot\n",
    "weight_plot"
   ]
  },
  {
   "cell_type": "markdown",
   "metadata": {},
   "source": [
    "The actual probability that a seed is included in the sample -- its **inclusion probability** -- is proportional to the sampling weight. These inclusion probabilities $\\pi_i$ can be calculated by normalizing the weights $w_i$:\n",
    "\n",
    "$$\\pi_i = \\frac{w_i}{\\sum_i w_i}$$\n",
    "\n",
    "It may help you to picture how the weights will be used in sampling to line up this plot with the population distribution. In effect, we will sample more from the right tail of the population distribution, where the weight is nearest to 1."
   ]
  },
  {
   "cell_type": "code",
   "execution_count": 20,
   "metadata": {},
   "outputs": [],
   "source": [
    "hist_pop & weight_plot"
   ]
  },
  {
   "cell_type": "markdown",
   "metadata": {},
   "source": [
    "The following cell draws a sample with replacement from the hypothetical seed population *with seeds weighted according to the inclusion probability given by the function above*."
   ]
  },
  {
   "cell_type": "code",
   "execution_count": 21,
   "metadata": {},
   "outputs": [],
   "source": [
    "# assign inclusion probability to each seed\n",
    "population_mod1['inclusion_prob'] = weight_fn(population_mod1.diameter)/(weight_fn(population_mod1.diameter)).sum()\n",
    "\n",
    "# draw weighted sample\n",
    "np.random.seed(40721)\n",
    "sample2 = population_mod1.sample(n = 250, replace = False, weights = 'inclusion_prob').drop(columns = 'inclusion_prob')"
   ]
  },
  {
   "cell_type": "markdown",
   "metadata": {
    "deletable": false,
    "editable": false
   },
   "source": [
    "#### Question 2a.i\n",
    "\n",
    "Calculate the mean diameter of seeds in the simulated sample and set the result to `mean_sample2_diameter`.\n",
    "\n",
    "<!--\n",
    "BEGIN QUESTION\n",
    "name: q2_a_i\n",
    "points: 1\n",
    "manual: false\n",
    "-->"
   ]
  },
  {
   "cell_type": "code",
   "execution_count": 22,
   "metadata": {},
   "outputs": [],
   "source": [
    "# solution\n",
    "mean_sample2_diameter = ...\n",
    "\n",
    "mean_sample2_diameter"
   ]
  },
  {
   "cell_type": "code",
   "execution_count": null,
   "metadata": {
    "deletable": false,
    "editable": false
   },
   "outputs": [],
   "source": [
    "grader.check(\"q2_a_i\")"
   ]
  },
  {
   "cell_type": "markdown",
   "metadata": {
    "deletable": false,
    "editable": false
   },
   "source": [
    "<!-- BEGIN QUESTION -->\n",
    "\n",
    "#### Question 2a.ii\n",
    "\n",
    "Is it close to the population mean?\n",
    "\n",
    "<!--\n",
    "BEGIN QUESTION\n",
    "name: q2_a_ii\n",
    "points: 1\n",
    "manual: true\n",
    "-->"
   ]
  },
  {
   "cell_type": "markdown",
   "metadata": {},
   "source": [
    "_Type your answer here, replacing this text._"
   ]
  },
  {
   "cell_type": "markdown",
   "metadata": {
    "deletable": false,
    "editable": false
   },
   "source": [
    "<!-- END QUESTION -->\n",
    "\n",
    "<!-- BEGIN QUESTION -->\n",
    "\n",
    "#### Question 2b.i\n",
    "\n",
    "Show side-by-side plots of the distribution of sample values and the distribution of population values, with vertical lines indicating the corresponding mean on each plot. (*Hint*: copy the cell that produced this plot in scenario 1 and replace `sample` with `sample2`. Utilizing different methods is also welcome.)\n",
    "\n",
    "<!--\n",
    "BEGIN QUESTION\n",
    "name: q2_b_i\n",
    "points: 1\n",
    "manual: true\n",
    "-->"
   ]
  },
  {
   "cell_type": "code",
   "execution_count": 25,
   "metadata": {
    "scrolled": true
   },
   "outputs": [],
   "source": [
    "# base layer\n",
    "base_samp = ...\n",
    "\n",
    "# histogram of diameter measurements\n",
    "hist_samp = ...\n",
    "\n",
    "# vertical line for population mean\n",
    "mean_samp = ...\n",
    "\n",
    "# combine layers\n"
   ]
  },
  {
   "cell_type": "markdown",
   "metadata": {
    "deletable": false,
    "editable": false
   },
   "source": [
    "<!-- END QUESTION -->\n",
    "\n",
    "<!-- BEGIN QUESTION -->\n",
    "\n",
    "#### Question 2b.ii\n",
    "\n",
    "Compare this plot with the original histogram that displays the distribution for the entire population. Does the distribution of diameters of seeds in the sample seem to accurately reflect the population?\n",
    "\n",
    "<!--\n",
    "BEGIN QUESTION\n",
    "name: q2_b_ii\n",
    "points: 1\n",
    "manual: true\n",
    "-->"
   ]
  },
  {
   "cell_type": "markdown",
   "metadata": {},
   "source": [
    "_Type your answer here, replacing this text._"
   ]
  },
  {
   "cell_type": "markdown",
   "metadata": {},
   "source": [
    "<!-- END QUESTION -->\n",
    "\n",
    "\n",
    "\n",
    "### Assessing bias\n",
    "\n",
    "Here you'll mimic the simulation done in scenario 1 to assess the bias of the sample mean under this new sampling design."
   ]
  },
  {
   "cell_type": "code",
   "execution_count": 26,
   "metadata": {},
   "outputs": [],
   "source": [
    "population_mod1.head()"
   ]
  },
  {
   "cell_type": "markdown",
   "metadata": {
    "deletable": false,
    "editable": false
   },
   "source": [
    "<!-- BEGIN QUESTION -->\n",
    "\n",
    "#### Question 2c\n",
    "\n",
    "Investigate the bias of the sample mean by:\n",
    "\n",
    "* drawing 1000 samples with observations weighted by inclusion probability;\n",
    "* storing the sample mean from each sample in `samp_means`; \n",
    "* computing the average difference between the sample means and the population mean and storing the result in `avg_diff`.\n",
    "\n",
    "(*Hint*: copy the cell that performs this simulation in scenario 1, and be sure to replace `population` with `population_mod1` and adjust the sampling step to include `weights = ...` with the appropriate argument.)\n",
    "\n",
    "<!--\n",
    "BEGIN QUESTION\n",
    "name: q2_c\n",
    "points: 1\n",
    "manual: true\n",
    "-->"
   ]
  },
  {
   "cell_type": "code",
   "execution_count": 27,
   "metadata": {},
   "outputs": [],
   "source": [
    "np.random.seed(40221) # for reproducibility\n",
    "\n",
    "# number of samples to simulate\n",
    "\n",
    "# storage for the sample means\n",
    "samp_means = ...\n",
    "\n",
    "# repeatedly sample and store the sample mean in the samp_means array\n",
    "\n",
    "# bias\n",
    "avg_diff = ...\n"
   ]
  },
  {
   "cell_type": "code",
   "execution_count": null,
   "metadata": {
    "deletable": false,
    "editable": false
   },
   "outputs": [],
   "source": [
    "grader.check(\"q2_c\")"
   ]
  },
  {
   "cell_type": "markdown",
   "metadata": {
    "deletable": false,
    "editable": false
   },
   "source": [
    "<!-- END QUESTION -->\n",
    "\n",
    "<!-- BEGIN QUESTION -->\n",
    "\n",
    "#### Question 2d\n",
    "\n",
    "Does this sampling design seem to introduce bias? If so, does the sample mean tend to over-estimate or under-estimate the population mean?\n",
    "\n",
    "<!--\n",
    "BEGIN QUESTION\n",
    "name: q2_d\n",
    "points: 1\n",
    "manual: true\n",
    "-->"
   ]
  },
  {
   "cell_type": "markdown",
   "metadata": {},
   "source": [
    "_Type your answer here, replacing this text._"
   ]
  },
  {
   "cell_type": "markdown",
   "metadata": {},
   "source": [
    "<!-- END QUESTION -->\n",
    "\n",
    "\n",
    "\n",
    "---\n",
    "\n",
    "## Scenario 3\n",
    "\n",
    "In this scenario, you'll explore sampling from a population with group structure -- frequently bias can arise from inadvertent uneven sampling of groups within a population.\n",
    "\n",
    "### Hypothetical population\n",
    "\n",
    "Suppose you're interested in determining the average beak-to-tail length of red-tailed hawks to help differentiate them from other hawks by sight at a distance. Females and males differ slightly in length -- females are generally larger than males. The cell below generates length measurements for a hypothetical population of 3000 females and 2000 males."
   ]
  },
  {
   "cell_type": "code",
   "execution_count": 33,
   "metadata": {},
   "outputs": [],
   "source": [
    "# for reproducibility\n",
    "np.random.seed(40721)\n",
    "\n",
    "# simulate hypothetical population\n",
    "population_hawks = pd.DataFrame(\n",
    "    data = {'length': np.random.normal(loc = 57.5, scale = 3, size = 3000),\n",
    "            'sex': np.repeat('female', 3000)}\n",
    ").append(\n",
    "    pd.DataFrame(\n",
    "        data = {'length': np.random.normal(loc = 50.5, scale = 3, size = 2000),\n",
    "                'sex': np.repeat('male', 2000)}\n",
    "    )\n",
    ")\n",
    "\n",
    "# preview\n",
    "population_hawks.groupby('sex').head(2)"
   ]
  },
  {
   "cell_type": "markdown",
   "metadata": {},
   "source": [
    "The cell below produces a histogram of the lengths in the population overall (bottom panel) and when distinguished by sex (top panel)."
   ]
  },
  {
   "cell_type": "code",
   "execution_count": 34,
   "metadata": {},
   "outputs": [],
   "source": [
    "base = alt.Chart(population_hawks).properties(height = 200)\n",
    "\n",
    "hist = base.mark_bar(opacity = 0.5, color = 'red').encode(\n",
    "    x = alt.X('length', \n",
    "              bin = alt.Bin(maxbins = 40), \n",
    "              scale = alt.Scale(domain = (40, 70)),\n",
    "              title = 'length (cm)'),\n",
    "    y = alt.Y('count()', \n",
    "              stack = None,\n",
    "              title = 'number of birds')\n",
    ")\n",
    "\n",
    "hist_bysex = hist.encode(color = 'sex').properties(height = 100)\n",
    "\n",
    "hist_bysex & hist"
   ]
  },
  {
   "cell_type": "markdown",
   "metadata": {},
   "source": [
    "The population mean -- average length of both female and male red-tailed hawks -- is shown below."
   ]
  },
  {
   "cell_type": "code",
   "execution_count": 35,
   "metadata": {},
   "outputs": [],
   "source": [
    "# population mean\n",
    "population_hawks.mean()"
   ]
  },
  {
   "cell_type": "markdown",
   "metadata": {},
   "source": [
    "First try drawing a random sample from the population:"
   ]
  },
  {
   "cell_type": "code",
   "execution_count": 36,
   "metadata": {},
   "outputs": [],
   "source": [
    "# for reproducibility\n",
    "np.random.seed(40821)\n",
    "\n",
    "# randomly sample\n",
    "sample_hawks = population_hawks.sample(n = 300, replace = False)"
   ]
  },
  {
   "cell_type": "markdown",
   "metadata": {
    "deletable": false,
    "editable": false
   },
   "source": [
    "#### Question 3a\n",
    "\n",
    "Do you expect that the sample will contain equal numbers of male and female hawks? Think about this for a moment (you don't have to provide a written answer), and then compute the proportions of individuals in the sample of each sex and store the result as `proportion_hawks_sample`. \n",
    "\n",
    "(*Hint*: group by sex, use `.count()`, and divide by the sample size. Be sure to rename the output column appropriately, as the default behavior produces a column called `length`.) \n",
    "\n",
    "<!--\n",
    "BEGIN QUESTION\n",
    "name: q3_a\n",
    "points: 1\n",
    "manual: false\n",
    "-->"
   ]
  },
  {
   "cell_type": "code",
   "execution_count": 37,
   "metadata": {},
   "outputs": [],
   "source": [
    "# solution\n",
    "proportion_hawks_sample = ...\n",
    "\n",
    "proportion_hawks_sample"
   ]
  },
  {
   "cell_type": "code",
   "execution_count": null,
   "metadata": {
    "deletable": false,
    "editable": false
   },
   "outputs": [],
   "source": [
    "grader.check(\"q3_a\")"
   ]
  },
  {
   "cell_type": "markdown",
   "metadata": {},
   "source": [
    "The sample mean is shown below, and is fairly close to the population mean. This should be expected, since you already saw in scenario 1 that random sampling is an unbiased sampling design with respect to the mean."
   ]
  },
  {
   "cell_type": "code",
   "execution_count": 42,
   "metadata": {},
   "outputs": [],
   "source": [
    "sample_hawks.mean()"
   ]
  },
  {
   "cell_type": "markdown",
   "metadata": {},
   "source": [
    "### Biased sampling\n",
    "\n",
    "Let's now consider a biased sampling design. Usually, length measurements are collected from dead specimens collected opportunistically. Imagine that male mortality is higher, so there are better chances of finding dead males than dead females. Suppose in particular that specimens are five times as likely to be male; to represent this situation, we'll assign sampling weights of 5/6 to all male hawks and weights of 1/6 to all female hawks."
   ]
  },
  {
   "cell_type": "code",
   "execution_count": 43,
   "metadata": {},
   "outputs": [],
   "source": [
    "def weight_fn(sex, p = 5/6):\n",
    "    if sex == 'male':\n",
    "        out = p\n",
    "    else:\n",
    "        out = 1 - p\n",
    "    return out\n",
    "\n",
    "weight_df = pd.DataFrame(\n",
    "    {'length': [50.5, 57.5],\n",
    "     'weight': [5/6, 1/6],\n",
    "     'sex': ['male', 'female']})\n",
    "\n",
    "wt = alt.Chart(weight_df).mark_bar(opacity = 0.5).encode(\n",
    "    x = alt.X('length', scale = alt.Scale(domain = (40, 70))),\n",
    "    y = alt.Y('weight', scale = alt.Scale(domain = (0, 1))),\n",
    "    color = 'sex'\n",
    ").properties(height = 70)\n",
    "\n",
    "hist_bysex & wt"
   ]
  },
  {
   "cell_type": "markdown",
   "metadata": {
    "deletable": false,
    "editable": false
   },
   "source": [
    "<!-- BEGIN QUESTION -->\n",
    "\n",
    "#### Question 3b\n",
    "\n",
    "Draw a weighted sample `sample_hawks_weighted` from the population `population_hawks` using the weights defined by `weight_fn`, and compute and store the sample mean in `sample_hawks_weighted_mean`.\n",
    "\n",
    "<!--\n",
    "BEGIN QUESTION\n",
    "name: q3_b\n",
    "points: 1\n",
    "manual: true\n",
    "-->"
   ]
  },
  {
   "cell_type": "code",
   "execution_count": 44,
   "metadata": {},
   "outputs": [],
   "source": [
    "# for reproducibility\n",
    "np.random.seed(40821)\n",
    "\n",
    "# assign weights\n",
    "population_hawks['weight'] = ...\n",
    "\n",
    "# randomly sample\n",
    "sample_hawks_weighted = ...\n",
    "\n",
    "# compute mean\n",
    "sample_hawks_weighted_mean = ...\n"
   ]
  },
  {
   "cell_type": "code",
   "execution_count": null,
   "metadata": {
    "deletable": false,
    "editable": false
   },
   "outputs": [],
   "source": [
    "grader.check(\"q3_b\")"
   ]
  },
  {
   "cell_type": "markdown",
   "metadata": {
    "deletable": false,
    "editable": false
   },
   "source": [
    "<!-- END QUESTION -->\n",
    "\n",
    "<!-- BEGIN QUESTION -->\n",
    "\n",
    "#### Question 3c\n",
    "\n",
    "Investigate the bias of the sample mean by:\n",
    "\n",
    "* drawing 1000 samples with observations weighted by `weight_fn`;\n",
    "* storing the sample mean from each sample; \n",
    "* computing the average difference between the sample means and the population mean.\n",
    "\n",
    "<!--\n",
    "BEGIN QUESTION\n",
    "name: q3_c\n",
    "points: 1\n",
    "manual: true\n",
    "-->"
   ]
  },
  {
   "cell_type": "code",
   "execution_count": 48,
   "metadata": {},
   "outputs": [],
   "source": [
    "# solution\n",
    "np.random.seed(40221) # for reproducibility\n",
    "\n",
    "# number of samples to simulate\n",
    "\n",
    "# storage for the sample means\n",
    "samp_means_2 = ...\n",
    "\n",
    "# repeatedly sample and store the sample mean in the samp_means array\n",
    "\n",
    "# bias\n",
    "biased_mean_diff = ...\n"
   ]
  },
  {
   "cell_type": "code",
   "execution_count": null,
   "metadata": {
    "deletable": false,
    "editable": false
   },
   "outputs": [],
   "source": [
    "grader.check(\"q3_c\")"
   ]
  },
  {
   "cell_type": "markdown",
   "metadata": {
    "deletable": false,
    "editable": false
   },
   "source": [
    "<!-- END QUESTION -->\n",
    "\n",
    "<!-- BEGIN QUESTION -->\n",
    "\n",
    "#### Question 3d\n",
    "\n",
    "Reflect a moment on your simulation result in question 3c. If instead *female* mortality is higher and specimens for measurement are collected opportunistically, as described in the previous sampling design, do you expect that the average length in the sample will be an underestimate or an overestimate of the population mean? Explain why in 1-2 sentences.\n",
    "\n",
    "<!--\n",
    "BEGIN QUESTION\n",
    "name: q3_d\n",
    "points: 1\n",
    "manual: true\n",
    "-->"
   ]
  },
  {
   "cell_type": "markdown",
   "metadata": {},
   "source": [
    "_Type your answer here, replacing this text._"
   ]
  },
  {
   "cell_type": "markdown",
   "metadata": {},
   "source": [
    "<!-- END QUESTION -->\n",
    "\n",
    "\n",
    "\n",
    "---\n",
    "\n",
    "## Bias correction\n",
    "\n",
    "*What can be done if a sampling design is biased? Is there any remedy?* \n",
    "\n",
    "You've seen some examples above of how bias can arise from a sampling mechanism in which units have unequal chances of being selected in the sample. Ideally, we'd work with random samples all the time, but that's not very realistic in practice. Fortunately, biased sampling is not a hopeless case -- **it is possible to apply bias corrections if you have good information about which individuals were more likely to be sampled**.\n",
    "\n",
    "To illustrate how this would work, let's revisit scenario 2 -- sampling larger eucalyptus seeds more often than smaller ones. Imagine you realize the mistake and conduct a quick experiment with your sieve to determine the proportion of seeds of each size that pass through, and use this to estimate the inclusion probabilities. (To simplify this excercise, we'll just use sampling weights we defined to calculate the actual inclusion probabilities.)\n",
    "\n",
    "The cell below generates the population and sample from scenario 2 again:"
   ]
  },
  {
   "cell_type": "code",
   "execution_count": 52,
   "metadata": {},
   "outputs": [],
   "source": [
    "# simulate seed diameters\n",
    "np.random.seed(40221) # for reproducibility\n",
    "population3 = pd.DataFrame(\n",
    "    data = {'diameter': np.random.gamma(shape = 2, scale = 1/2, size = 5000), \n",
    "            'seed': np.arange(5000)}\n",
    ").set_index('seed')\n",
    "\n",
    "# probability of inclusion as a function of seed diameter\n",
    "def weight_fn(x, r = 2, c = 2):\n",
    "    out = 1/(1 + np.e**(-r*(x - c)))\n",
    "    return out\n",
    "\n",
    "# assign inclusion probability to each seed\n",
    "population3['samp_weight'] = weight_fn(population3.diameter)\n",
    "\n",
    "# draw weighted sample\n",
    "np.random.seed(40721)\n",
    "sample3 = population3.sample(n = 250, replace = False, weights = 'samp_weight')"
   ]
  },
  {
   "cell_type": "markdown",
   "metadata": {},
   "source": [
    "The sample mean and population mean you calculated earlier are shown below:"
   ]
  },
  {
   "cell_type": "code",
   "execution_count": 53,
   "metadata": {},
   "outputs": [],
   "source": [
    "# print sample and population means\n",
    "pd.Series({'sample mean': sample3.diameter.mean(), 'population mean': population3.diameter.mean()})"
   ]
  },
  {
   "cell_type": "markdown",
   "metadata": {},
   "source": [
    "We can obtain an unbiased estimate of the population mean by computing a *weighted average* of the diameter measurements instead of the sample average after weighting the measurements in inverse proportion to the sampling weights:\n",
    "\n",
    "$$\\text{weighted average} = \\sum_{i = 1}^{250} \\underbrace{\\left(\\frac{w_i^{-1}}{\\sum_{j = 1}^{250} w_j^{-1}}\\right)}_{\\text{bias adjustment}} \\times \\text{diameter}_i$$\n",
    "\n",
    "This might look a little complicated, but the idea is simple -- the weighted average corrects for bias by simply up-weighting observations with a lower sampling weight and down-weighting observations with a higher sampling weight.\n",
    "\n",
    "The cell below performs this calcuation."
   ]
  },
  {
   "cell_type": "code",
   "execution_count": 54,
   "metadata": {},
   "outputs": [],
   "source": [
    "# compute bias adjustment\n",
    "sample3['bias_adjustment'] = (sample3.samp_weight**(-1))/(sample3.samp_weight**(-1)).sum()\n",
    "\n",
    "# weight diameter measurements\n",
    "sample3['weighted_diameter'] = sample3.diameter*sample3.bias_adjustment\n",
    "\n",
    "# sum to compute weighted average\n",
    "sample3.weighted_diameter.sum()"
   ]
  },
  {
   "cell_type": "markdown",
   "metadata": {},
   "source": [
    "Notice that the weighted average successfully corrected for the bias:"
   ]
  },
  {
   "cell_type": "code",
   "execution_count": 55,
   "metadata": {},
   "outputs": [],
   "source": [
    "# print sample and population means\n",
    "pd.Series({'sample mean': sample3.diameter.mean(),\n",
    "           'weighted average': sample3.weighted_diameter.sum(),\n",
    "           'population mean': population3.diameter.mean()})"
   ]
  },
  {
   "cell_type": "markdown",
   "metadata": {},
   "source": [
    "---\n",
    "\n",
    "## Takeaways\n",
    "\n",
    "These simulations illustrate through a few simple examples that random sampling -- a sampling design where each unit is equally likely to be selected -- produces unbiased sample means. That means that 'typical samples' will yield sample averages that are close to the population value. By contrast, deviations from random sampling tend to yield biased sample averages -- in other words, nonrandom sampling tends to distort the statistical properties of the population in ways that can produce misleading conclusions (if uncorrected).\n",
    "\n",
    "Here are a few key points to reflect on:\n",
    "\n",
    "* bias is not a property of an individual sample, but of a *sampling design*\n",
    "    - unbiased sampling designs tend to produce faithful representations of populations\n",
    "    - but there are no guarantees for individual samples\n",
    "\n",
    "\n",
    "* if you hadn't known the population distributions, there would have been no computational method to detect bias\n",
    "    - in practice, it's necessary to *reason* about whether the sampling design is sound\n",
    "\n",
    "\n",
    "* the sample statistic (sample mean) was only reliable when the sampling design was sound\n",
    "    - the quality of data collection is arguably more important for reaching reliable conclusions than the choice of statistic or method of analysis\n",
    "\n"
   ]
  },
  {
   "cell_type": "markdown",
   "metadata": {
    "tags": []
   },
   "source": [
    "---\n",
    "## Submission Checklist\n",
    "1. Save file to confirm all changes are on disk\n",
    "2. Run *Kernel > Restart & Run All* to execute all code from top to bottom\n",
    "3. Save file again to write any new output to disk\n",
    "4. Select *File > Download* (should save as .ipynb)\n",
    "5. Submit to Gradescope"
   ]
  },
  {
   "cell_type": "markdown",
   "metadata": {
    "deletable": false,
    "editable": false
   },
   "source": [
    "---\n",
    "\n",
    "To double-check your work, the cell below will rerun all of the autograder tests."
   ]
  },
  {
   "cell_type": "code",
   "execution_count": null,
   "metadata": {
    "deletable": false,
    "editable": false
   },
   "outputs": [],
   "source": [
    "grader.check_all()"
   ]
  }
 ],
 "metadata": {
  "kernelspec": {
   "display_name": "Python 3",
   "language": "python",
   "name": "python3"
  },
  "language_info": {
   "codemirror_mode": {
    "name": "ipython",
    "version": 3
   },
   "file_extension": ".py",
   "mimetype": "text/x-python",
   "name": "python",
   "nbconvert_exporter": "python",
   "pygments_lexer": "ipython3",
   "version": "3.7.4"
  }
 },
 "nbformat": 4,
 "nbformat_minor": 4
}
