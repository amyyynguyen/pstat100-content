{
 "cells": [
  {
   "cell_type": "code",
   "execution_count": null,
   "metadata": {
    "deletable": false,
    "editable": false
   },
   "outputs": [],
   "source": [
    "# Initialize Otter\n",
    "import otter\n",
    "grader = otter.Notebook(\"lab4-smoothing.ipynb\")"
   ]
  },
  {
   "cell_type": "code",
   "execution_count": null,
   "metadata": {},
   "outputs": [],
   "source": [
    "import numpy as np\n",
    "import pandas as pd\n",
    "import altair as alt\n",
    "\n",
    "pd.options.mode.chained_assignment = None  # default='warn'"
   ]
  },
  {
   "cell_type": "markdown",
   "metadata": {},
   "source": [
    "# Lab 4: Smooth visuals\n",
    "\n",
    "So far, you've encountered a number of visualization techniques for displaying tidy data. In those visualizations, all graphic elements represent the values of a dataset -- they are visual displays of actual data.\n",
    "\n",
    "In general, smoothing means evening out. Visualizations of actual data are often irregular -- points are distributed widely in scatterplots, line plots are jagged, bars are discontinuous. When we look at such visuals, we tend to attempt to look past these irregularities in order to discern patterns -- for example, the overall shape of a histogram or the general trend in a scatterplot. Showing what a graphic might look like with irregularities evened out often aids the eye in detecting pattern. This is what **smoothing** is: _**evening out irregularities in graphical displays of actual data**_.\n",
    "\n",
    "For our purposes, usually smoothing will consist in drawing a line or a curve on top of an existing statistical graphic. From a technical point of view, this amounts to adding derived geometric objects to a graphic that have fewer irregularities than the displays of actual data.\n",
    "\n",
    "---\n",
    "### Objectives\n",
    "\n",
    "In this lab, you'll learn some basic smoothing techniques -- kernel density estimation, LOESS, and linear smoothing via regression -- and how to implement them in Altair. Your focus will be on understanding the techniques *graphically*, not mathematically.\n",
    "\n",
    "In Altair, smoothed geometric objects are constructed and plotted through what Altair describes as *transforms* -- operations that modify a dataset. Try not to get too attached to this terminology -- 'transform' and 'transformation' are used to mean a variety of things in other contexts. You'll begin with a brief introduction to Altair transforms before turning to smoothing techniques.\n",
    "\n",
    "The **sections** of the lab are divided as follows:\n",
    "\n",
    "0. Introduction to Altair transforms\n",
    "1. Histogram smoothing: kernel density estimamtion\n",
    "2. Scatterplot smoothing: LOESS and linear smoothing\n",
    "3. A neat graphic\n",
    "\n",
    "And our main **goals** are:\n",
    "\n",
    "* Get familiar with Altair transforms for dataframe operations: filter, bin, aggregate, calculate.\n",
    "* 'Handmande' histograms: step-by-step construction\n",
    "* Implement kernel density estimation via `.transform_density(...)`\n",
    "* Implement LOESS via `.transform_loess(...)`\n",
    "* Implement linear smoothing via `transform_regression(...)`\n",
    "\n",
    "You'll use the same data as last week to stick to a familiar example:"
   ]
  },
  {
   "cell_type": "code",
   "execution_count": null,
   "metadata": {},
   "outputs": [],
   "source": [
    "# import tidied lab 3 data\n",
    "data = pd.read_csv('data/lab3-data.csv')\n",
    "data.head()"
   ]
  },
  {
   "cell_type": "markdown",
   "metadata": {},
   "source": [
    "---\n",
    "## 0. Background: transforms in Altair\n",
    "\n",
    "In Altair, operations that modify a dataset are referred to as *transforms*. Mostly, these are operations that could be performed manually with ease -- the utility of transforms is that they *wrap common operations within plotting commands*, although they also make plotting codes more verbose. \n",
    "\n",
    "Transforms encompass a broad range of types of operations, from relatively simple ones like filtering to more complex ones like smoothing. Here you'll see a few intuitive transforms in Altair that integrate simple dataframe manipulations into the plotting process.\n",
    "\n",
    "You'll focus on the construction of histograms as a sort of case study. This will be a useful primer for histogram smoothing in the next section.\n",
    "\n",
    "### Filter transform\n",
    "\n",
    "Last week you saw a way to make histograms. As a quick refresher, to make a histogram of life expectancies across the globe in 2010, one can filter the data and then plot using the following commands:"
   ]
  },
  {
   "cell_type": "code",
   "execution_count": null,
   "metadata": {},
   "outputs": [],
   "source": [
    "# filter\n",
    "data2010 = data[data.Year == 2010]\n",
    "\n",
    "# plot\n",
    "alt.Chart(data2010).mark_bar().encode(\n",
    "    x = alt.X('Life Expectancy', \n",
    "              bin = alt.Bin(step = 2), \n",
    "              title = 'Life Expectancy at Birth'),\n",
    "    y = 'count()'\n",
    ")"
   ]
  },
  {
   "cell_type": "markdown",
   "metadata": {},
   "source": [
    "However, the filtering step can be handled *within the plotting commands* using `.transform_filter()`. \n",
    "\n",
    "This uses a helper command to specify the filtering condition -- in the above example, the filtering condition is that `Year` is equal to `2010`. A filtering condition is referred to in Altair as a 'field predicate'. In the above example:\n",
    "* filtering field: `Year`\n",
    "* field predicate: equals `2010`\n",
    "\n",
    "There are different helpers for different types of field predicates -- you can find a complete list [in the documentation](https://altair-viz.github.io/user_guide/transform/filter.html).\n",
    "\n",
    "Here is how to use `.transform_filter()` to make the same histogram shown above, but skipping the step of storing a subset of the data under a separate name:"
   ]
  },
  {
   "cell_type": "code",
   "execution_count": null,
   "metadata": {},
   "outputs": [],
   "source": [
    "# filter and plot\n",
    "alt.Chart(data).transform_filter(\n",
    "    alt.FieldEqualPredicate(field = 'Year', \n",
    "                            equal = 2010)\n",
    ").mark_bar().encode(\n",
    "    x = alt.X('Life Expectancy', \n",
    "              bin = alt.Bin(step = 2), \n",
    "              title = 'Life Expectancy at Birth'),\n",
    "    y = 'count()'\n",
    ")"
   ]
  },
  {
   "cell_type": "markdown",
   "metadata": {},
   "source": [
    "<!-- BEGIN QUESTION -->\n",
    "\n",
    "### Question 0a. Filter transform\n",
    "\n",
    "Construct a histogram of life expectancies across the globe in 2019 using a filter transform as shown above to filter the appropriate rows of the dataset. Use a bin size of three (not two) years.\n"
   ]
  },
  {
   "cell_type": "code",
   "execution_count": null,
   "metadata": {
    "tags": []
   },
   "outputs": [],
   "source": [
    "# filter and plot\n",
    "..."
   ]
  },
  {
   "cell_type": "markdown",
   "metadata": {},
   "source": [
    "<!-- END QUESTION -->\n",
    "\n",
    "### Bin transform\n",
    "\n",
    "The codes above provide a sleek way to construct the histogram that handles binning via arguments to `alt.X(...)`. However, binning actually involves an operation: creating a new variable that is a discretization of an existing variable into contiguous intervals of a specified width. \n",
    "\n",
    "To illustrate, have a look at how the histogram could be constructed 'manually' by the following operations.\n",
    "1. Bin life expectancies\n",
    "2. Count values in each bin\n",
    "3. Make a bar plot of counts against bin centers.\n",
    "\n",
    "Here's step 1:"
   ]
  },
  {
   "cell_type": "code",
   "execution_count": null,
   "metadata": {},
   "outputs": [],
   "source": [
    "# bin life expectancies into 20 contiguous intervals\n",
    "data2010['Bin'] = pd.cut(data2010[\"Life Expectancy\"], bins = 20)\n",
    "data2010.head()"
   ]
  },
  {
   "cell_type": "markdown",
   "metadata": {},
   "source": [
    "Here's step 2:"
   ]
  },
  {
   "cell_type": "code",
   "execution_count": null,
   "metadata": {},
   "outputs": [],
   "source": [
    "# count values in each bin and store midpoints\n",
    "histdata = data2010.loc[:, ['Life Expectancy', 'Bin']].groupby('Bin').count()\n",
    "histdata['Bin midpoint'] = histdata.index.values.categories.mid.values\n",
    "histdata"
   ]
  },
  {
   "cell_type": "markdown",
   "metadata": {},
   "source": [
    "And finally, step 3:"
   ]
  },
  {
   "cell_type": "code",
   "execution_count": null,
   "metadata": {},
   "outputs": [],
   "source": [
    "# plot histogram\n",
    "alt.Chart(histdata).mark_bar(width = 10).encode(\n",
    "    x = 'Bin midpoint',\n",
    "    y = alt.Y('Life Expectancy', title = 'Count')\n",
    ")"
   ]
  },
  {
   "cell_type": "markdown",
   "metadata": {},
   "source": [
    "Well, these operations can be articulated as a transform in Altair using `.bin_transform()`:"
   ]
  },
  {
   "cell_type": "code",
   "execution_count": null,
   "metadata": {},
   "outputs": [],
   "source": [
    "# filter, bin, and plot\n",
    "alt.Chart(\n",
    "    data\n",
    ").transform_filter(\n",
    "    alt.FieldEqualPredicate(field = 'Year', \n",
    "                            equal = 2010)\n",
    ").transform_bin(\n",
    "    'Life Expectancy at Birth', # name to give binned variable\n",
    "    field = 'Life Expectancy', # variable to bin\n",
    "    bin = alt.Bin(step = 2) # binning parameters\n",
    ").mark_bar(size = 10).encode(\n",
    "    x = 'Life Expectancy at Birth:Q', \n",
    "    y = 'count()'\n",
    ")"
   ]
  },
  {
   "cell_type": "markdown",
   "metadata": {},
   "source": [
    "The plotting codes are a little more verbose, but they're much more efficient than performing the manipulations separately in pandas!"
   ]
  },
  {
   "cell_type": "markdown",
   "metadata": {},
   "source": [
    "<!-- BEGIN QUESTION -->\n",
    "\n",
    "### Question 0b. Bin transform\n",
    "\n",
    "Follow the example above and make a histogram of life expectancies across the globe in 2019 using an explicit bin transform to create bins spanning three years.\n",
    "\n",
    "(*Hint*: copy your solution to Question 0a and modify to use `.transform_bin(...)` instead of `alt.X(...)`.)\n"
   ]
  },
  {
   "cell_type": "code",
   "execution_count": null,
   "metadata": {
    "tags": []
   },
   "outputs": [],
   "source": [
    "# filter, bin, and plot\n",
    "..."
   ]
  },
  {
   "cell_type": "markdown",
   "metadata": {},
   "source": [
    "<!-- END QUESTION -->\n",
    "\n",
    "### Aggregate transform\n",
    "\n",
    "Now, the counting of observations in each bin is *also* an under-the-hood operation in constructing the histogram. You already saw how this was done 'manually' in the example above before introducing the bin transform.\n",
    "\n",
    "Grouped counting is a form of *aggregation*: it produces output that has fewer values than the input by combining multiple values (in this case rows) into one value (in this case a count of the number of rows). \n",
    "\n",
    "This operation can also be made explicit using `.transform_aggregate()`. This makes use of Altair's *aggregation shorthands* for common aggregation functions; see the documentation on Altair encodings for a [full list of shorthands](https://altair-viz.github.io/user_guide/encoding.html#binning-and-aggregation).\n",
    "\n",
    "Here is how `.transform_aggregate()` would be used to perform the counting:"
   ]
  },
  {
   "cell_type": "code",
   "execution_count": null,
   "metadata": {},
   "outputs": [],
   "source": [
    "# filter, bin, count, and plot\n",
    "alt.Chart(\n",
    "    data\n",
    ").transform_filter(\n",
    "    alt.FieldEqualPredicate(field = 'Year', \n",
    "                            equal = 2010)\n",
    ").transform_bin(\n",
    "    'Life Expectancy at Birth', \n",
    "    field = 'Life Expectancy',\n",
    "    bin = alt.Bin(step = 2) \n",
    ").transform_aggregate(\n",
    "    Count = 'count()', # altair shorthand operation -- see docs for full list\n",
    "    groupby = ['Life Expectancy at Birth'] # grouping variable(s)\n",
    ").mark_bar(size = 10).encode(\n",
    "    x = 'Life Expectancy at Birth:Q', \n",
    "    y = 'Count:Q'\n",
    ")"
   ]
  },
  {
   "cell_type": "markdown",
   "metadata": {},
   "source": [
    "### Calculate transform\n",
    "\n",
    "One peculiarity of Altair's histograms is that they are displayed on the *count scale* rather than the *density scale*, and there is no simple option to change this. \n",
    "\n",
    "The **count scale** means that the y-axis shows _**counts of observations in each bin**_.\n",
    "\n",
    "By contrast, on the **density scale**, the y-axis would show _**proportions of total bar area**_ (so that the area of plotted bars sums to 1). \n",
    "\n",
    "It might seem like a silly distinction -- after all, the two scales differ simply by a proportionality constant (the sample size times the bin width) -- but as you will see shortly, the density scale is more useful for statistical thinking about the distribution of values.\n",
    "\n",
    "The scale conversion can be done using `.transform_calculate()`, which computes derived variables using arithmetic operations. In this case, one only needs to divide the count by the total number of observations."
   ]
  },
  {
   "cell_type": "code",
   "execution_count": null,
   "metadata": {},
   "outputs": [],
   "source": [
    "# filter, bin, count, convert scale, and plot\n",
    "alt.Chart(\n",
    "    data\n",
    ").transform_filter(\n",
    "    alt.FieldEqualPredicate(field = 'Year', \n",
    "                            equal = 2010)\n",
    ").transform_bin(\n",
    "    'Life Expectancy at Birth', \n",
    "    field = 'Life Expectancy', \n",
    "    bin = alt.Bin(step = 2)\n",
    ").transform_aggregate(\n",
    "    Count = 'count()',\n",
    "    groupby = ['Life Expectancy at Birth']\n",
    ").transform_calculate(\n",
    "    Density = 'datum.Count/(2*157)' # divide counts by sample size x binwidth\n",
    ").mark_bar(size = 10).encode(\n",
    "    x = 'Life Expectancy at Birth:Q', \n",
    "    y = 'Density:Q'\n",
    ")"
   ]
  },
  {
   "cell_type": "markdown",
   "metadata": {},
   "source": [
    "### Question 0c. Density scale histogram\n",
    "\n",
    "Follow the example above and convert your histogram from Question 0b (with the year 2019, the step size of 3, and the usage of `.transform_bin(...)`) to the density scale. First calculate the count explicitly using `.transform_aggregate(...)` and then convert to a proportion using `.transform_calculate(...)`.\n",
    "\n",
    "(*Note*: you will need to find the sample size separately and hard-code this into the calculate step.)"
   ]
  },
  {
   "cell_type": "markdown",
   "metadata": {},
   "source": [
    "### Question 0ci. Density scale histogram\n",
    "First, calculate the sample size and store the result in `sample_size`. Store the step size as `bin_width`."
   ]
  },
  {
   "cell_type": "code",
   "execution_count": null,
   "metadata": {
    "tags": []
   },
   "outputs": [],
   "source": [
    "# find sample size\n",
    "sample_size = ...\n",
    "bin_width = ..."
   ]
  },
  {
   "cell_type": "code",
   "execution_count": null,
   "metadata": {
    "deletable": false,
    "editable": false
   },
   "outputs": [],
   "source": [
    "grader.check(\"q0_ci\")"
   ]
  },
  {
   "cell_type": "markdown",
   "metadata": {},
   "source": [
    "<!-- BEGIN QUESTION -->\n",
    "\n",
    "### Question 0cii. Density scale histogram\n",
    "Convert your histogram from Question 0b (with the year 2019, the step size of 3, and the usage of `.transform_bin(...)`) to the density scale. First calculate the count explicitly using `.transform_aggregate(...)` and then convert to a proportion using `.transform_calculate(...)`. Multiply `sample_size` with `bin_width` calculated in Question 0ci and hardcode it into your implementation.\n"
   ]
  },
  {
   "cell_type": "code",
   "execution_count": null,
   "metadata": {
    "tags": []
   },
   "outputs": [],
   "source": [
    "# construct histogram\n",
    "..."
   ]
  },
  {
   "cell_type": "markdown",
   "metadata": {},
   "source": [
    "<!-- END QUESTION -->\n",
    "\n",
    "---\n",
    "## 1. Density estimation\n",
    "\n",
    "Now that you have a sense of how transforms work, we can explore transforms that perform more sophisticated operations. We're going to focus on a technique known as *kernel density estimation*.\n",
    "\n",
    "Histograms show the distribution of values in the sample. Let's call the density-scale histogram the *empirical density*. A **kernel density estimate** is simply _**a smoothing of the empirical density**_. (It's called an 'estimate' because it's often construed as an approximation of the distribution of population values that the sample came from.)\n",
    "\n",
    "Often the point of visualizing the distribution of a variable is to discern the shape, spread, center, and tails of the distribution to answer certain questions:\n",
    "* what's a typical value?\n",
    "* are there multiple typical values (multi-modal)?\n",
    "* are there outliers?\n",
    "* is the distribution skewed?\n",
    "\n",
    "Density estimates are often easier to work with in exploratory analysis because it is visually easier to distinguish the shape of a smooth curve than the shape of a bunch of bars (unless you're really far away!). \n",
    "\n",
    "'Kernel density estimate' sounds fancy, but it's surprisingly easy to plot using `.transform_density()`. The cell below generates a density estimate of life expectancies across the globe in 2010. Notice the commented lines explaining the syntax."
   ]
  },
  {
   "cell_type": "code",
   "execution_count": null,
   "metadata": {},
   "outputs": [],
   "source": [
    "# plot kernel density estimate of life expectancies in 2010\n",
    "alt.Chart(\n",
    "    data\n",
    ").transform_filter(\n",
    "    alt.FieldEqualPredicate(field = 'Year', \n",
    "                            equal = 2010)\n",
    ").transform_density(\n",
    "    density = 'Life Expectancy', # variable to smooth\n",
    "    as_ = ['Life Expectancy at Birth', 'Estimated Density'], # names of outputs\n",
    "    bandwidth = 3, # how smooth?\n",
    "    extent = [30, 85], # domain on which the smooth is defined\n",
    "    steps = 1000 # for plotting: number of points to generate for plotting line\n",
    ").mark_line(color = 'black').encode(\n",
    "    x = 'Life Expectancy at Birth:Q',\n",
    "    y = 'Estimated Density:Q'\n",
    ")"
   ]
  },
  {
   "cell_type": "markdown",
   "metadata": {},
   "source": [
    "This estimate can be layered onto the empirical density to get a better sense of the relationship between the two. The cell below accomplishes this. Notice that the plot elements are constructed as separate *layers*."
   ]
  },
  {
   "cell_type": "code",
   "execution_count": null,
   "metadata": {},
   "outputs": [],
   "source": [
    "# base plot\n",
    "base = alt.Chart(data).transform_filter(\n",
    "    alt.FieldEqualPredicate(field = 'Year', \n",
    "                            equal = 2010)\n",
    ")\n",
    " \n",
    "# empirical density\n",
    "hist = base.transform_bin(\n",
    "    as_ = 'Life Expectancy at Birth', \n",
    "    field = 'Life Expectancy', \n",
    "    bin = alt.Bin(step = 2)\n",
    ").transform_aggregate(\n",
    "    Count = 'count()',\n",
    "    groupby = ['Life Expectancy at Birth']\n",
    ").transform_calculate(\n",
    "    Density = 'datum.Count/(2*157)'\n",
    ").mark_bar(size = 10, opacity = 0.8).encode(\n",
    "    x = 'Life Expectancy at Birth:Q', \n",
    "    y = 'Density:Q'\n",
    ")\n",
    "\n",
    "# kernel density estimate\n",
    "smooth = base.transform_density(\n",
    "    density = 'Life Expectancy', \n",
    "    as_ = ['Life Expectancy at Birth', 'Estimated density'],\n",
    "    bandwidth = 3, \n",
    "    extent = [30, 85],\n",
    "    steps = 1000 \n",
    ").mark_line(color = 'black').encode(\n",
    "    x = 'Life Expectancy at Birth:Q',\n",
    "    y = 'Estimated density:Q'\n",
    ")\n",
    "\n",
    "# layer\n",
    "hist + smooth"
   ]
  },
  {
   "cell_type": "markdown",
   "metadata": {},
   "source": [
    "What if you want a different amount of smoothing? That's what the `extent` parameter is for. The smoothing is *local*, in the following sense: at any given point, the kernel density estimate averages bar heights in a neighborhood of nearby bars proportional to how far the bars are from the point in question. \n",
    "\n",
    "The `extent` parameter specifies the size of the smoothing neighborhood in standard deviations. For instance, above `extent = 3`, which means that the empirical density is smoothed 3SD in either direction to produce the kernel density estimate. This is also known as the *bandwidth*.\n",
    "* If the bandwidth is increased, averaging is more global, so the density estimate will get smoother.\n",
    "* If the bandwidth is decreased, averaging is more local, so the density estimate will get wiggly.\n",
    "\n",
    "There are some methods out there for automating bandwidth choice, but often it is done by hand. Arguably this is preferable, as it allows the analyst to see a few possibilities and decide what best captures the shape of the distribution."
   ]
  },
  {
   "cell_type": "markdown",
   "metadata": {},
   "source": [
    "<!-- BEGIN QUESTION -->\n",
    "\n",
    "### Question 1a. Selecting a bandwidth\n",
    "\n",
    "Modify the ploting codes by *decreasing* the bandwidth parameter. Try several values, and then choose one that you feel captures the shape of the distribution well without getting too wiggly.\n"
   ]
  },
  {
   "cell_type": "code",
   "execution_count": null,
   "metadata": {
    "tags": []
   },
   "outputs": [],
   "source": [
    "\n",
    "# change bandwidth\n",
    "hist + base.transform_density(\n",
    "    density = 'Life Expectancy', \n",
    "    as_ = ['Life Expectancy at Birth', 'Estimated density'],\n",
    "    bandwidth = 3, # play here\n",
    "    extent = [30, 85],\n",
    "    steps = 1000 \n",
    ").mark_line(color = 'black').encode(\n",
    "    x = 'Life Expectancy at Birth:Q',\n",
    "    y = 'Estimated density:Q'\n",
    ")"
   ]
  },
  {
   "cell_type": "markdown",
   "metadata": {},
   "source": [
    "<!-- END QUESTION -->\n",
    "\n",
    "### Comparing distributions\n",
    "\n",
    "The visual advantage of a kernel density estimate for discerning shape is even more apparent when comparing distributions. \n",
    "\n",
    "As you will see as the course progresses, a major task in exploratory analysis is understanding how the distribution of a variable of interest changes depending on other variables -- for example, you have already seen in the last lab that life expectancy seems to change over time. We can explore this phenomenon from a different angle by comparing distributions in different years.\n",
    "\n",
    "Multiple density estimates can be displayed on the same plot by passing a grouping variable (or set of variables) to `.transform_density(...)`. For example, the cell below computes density estimates of life expectancies for each of two years."
   ]
  },
  {
   "cell_type": "code",
   "execution_count": null,
   "metadata": {},
   "outputs": [],
   "source": [
    "alt.Chart(data).transform_filter(\n",
    "    alt.FieldOneOfPredicate(field = 'Year',\n",
    "                            oneOf = [2010, 2019])\n",
    ").transform_density(\n",
    "    density = 'Life Expectancy',\n",
    "    groupby = ['Year'],\n",
    "    as_ = ['Life Expectancy at Birth', 'Estimated Density'],\n",
    "    bandwidth = 1.8, \n",
    "    extent = [25, 90],\n",
    "    steps = 1000 \n",
    ").mark_line().encode(\n",
    "    x = 'Life Expectancy at Birth:Q',\n",
    "    y = 'Estimated Density:Q',\n",
    "    color = 'Year:N'\n",
    ")"
   ]
  },
  {
   "cell_type": "markdown",
   "metadata": {},
   "source": [
    "Often the area beneath each density estimate is filled in. This can be done by simply appending a `.mark_area()` call at the end of the plot. "
   ]
  },
  {
   "cell_type": "code",
   "execution_count": null,
   "metadata": {},
   "outputs": [],
   "source": [
    "p = alt.Chart(data).transform_filter(\n",
    "    alt.FieldOneOfPredicate(field = 'Year',\n",
    "                            oneOf = [2010, 2019])\n",
    ").transform_density(\n",
    "    density = 'Life Expectancy',\n",
    "    groupby = ['Year'],\n",
    "    as_ = ['Life Expectancy at Birth', 'Estimated Density'],\n",
    "    bandwidth = 1.8, \n",
    "    extent = [25, 90],\n",
    "    steps = 1000 \n",
    ").mark_line().encode(\n",
    "    x = 'Life Expectancy at Birth:Q',\n",
    "    y = 'Estimated Density:Q',\n",
    "    color = 'Year:N'\n",
    ")\n",
    "\n",
    "p + p.mark_area(opacity = 0.1)"
   ]
  },
  {
   "cell_type": "markdown",
   "metadata": {},
   "source": [
    "Notice that this makes it much easier to compare the distributions between years -- you can see a pronounced rightward shift of the smooth for 2019 compared with 2010. \n",
    "\n",
    "We could make the same comparison based on the histograms, but the shift is a lot harder to make out."
   ]
  },
  {
   "cell_type": "code",
   "execution_count": null,
   "metadata": {},
   "outputs": [],
   "source": [
    "alt.Chart(data).transform_filter(\n",
    "    alt.FieldOneOfPredicate(field = 'Year',\n",
    "                            oneOf = [2010, 2019])\n",
    ").mark_bar(opacity = 0.5).encode(\n",
    "    x = alt.X('Life Expectancy', bin = alt.Bin(maxbins = 30), title = 'Life Expectancy at Birth'),\n",
    "    y = alt.Y('count()', stack = None),\n",
    "    color = 'Year:N'\n",
    ")"
   ]
  },
  {
   "cell_type": "markdown",
   "metadata": {},
   "source": [
    "<!-- BEGIN QUESTION -->\n",
    "\n",
    "### Question 1b. Multiple density estimates\n",
    "\n",
    "Follow the appropriate example above to construct a plot showing separate density estimates of life expectancy for each region in the 2010. You can choose whether you prefer to fill in the area beneath the smooth curves, or not. Be sure to play with the bandwidth parameter and choose a value that seems sensible to you.\n"
   ]
  },
  {
   "cell_type": "code",
   "execution_count": null,
   "metadata": {
    "tags": []
   },
   "outputs": [],
   "source": [
    "..."
   ]
  },
  {
   "cell_type": "markdown",
   "metadata": {},
   "source": [
    "<!-- END QUESTION -->\n",
    "\n",
    "<!-- BEGIN QUESTION -->\n",
    "\n",
    "### Question 1c. Interpretation\n",
    "\n",
    "Do the distributions of life expectancies seem to differ by region? If so, what is one difference that you notice? Answer in 1-2 sentences.\n"
   ]
  },
  {
   "cell_type": "markdown",
   "metadata": {},
   "source": [
    "_Type your answer here, replacing this text._"
   ]
  },
  {
   "cell_type": "markdown",
   "metadata": {},
   "source": [
    "<!-- END QUESTION -->\n",
    "\n",
    "### Question 1d. Outlier\n",
    "\n",
    "Notice that little peak way off to the left in the distribution of life expectancies in the Americas. That's an outlier. \n",
    "\n",
    "#### (i) Which country is it? \n",
    "\n",
    "Check by filtering `data` appropriately and using `.sort_values(...)` to find the lowest life expectancy in the Americas. Save the row of `data` that shows the outlying observation in `lowest_Americas`.\n",
    "\n",
    "(*Hint*: You might want to [check the documentation](https://pandas.pydata.org/docs/reference/api/pandas.DataFrame.sort_values.html).)\n"
   ]
  },
  {
   "cell_type": "code",
   "execution_count": null,
   "metadata": {
    "tags": []
   },
   "outputs": [],
   "source": [
    "# show row of outlier\n",
    "lowest_Americas = ...\n",
    "lowest_Americas"
   ]
  },
  {
   "cell_type": "code",
   "execution_count": null,
   "metadata": {
    "deletable": false,
    "editable": false
   },
   "outputs": [],
   "source": [
    "grader.check(\"q1_d_i\")"
   ]
  },
  {
   "cell_type": "markdown",
   "metadata": {},
   "source": [
    "<!-- BEGIN QUESTION -->\n",
    "\n",
    "#### (ii) What was the life expectancy for that country in other years? \n",
    "\n",
    "Now filter the data to examine the life expectancy in the country you identified as the outlier in all years. Save the corresponding four rows of `data`: one row for each year into `outlier_country`.\n",
    "\n",
    "(*Hint*: filter by country.)\n"
   ]
  },
  {
   "cell_type": "code",
   "execution_count": null,
   "metadata": {
    "tags": []
   },
   "outputs": [],
   "source": [
    "# show rows for all years for country of interest\n",
    "outlier_country = ...\n",
    "outlier_country"
   ]
  },
  {
   "cell_type": "markdown",
   "metadata": {},
   "source": [
    "<!-- END QUESTION -->\n",
    "\n",
    "<!-- BEGIN QUESTION -->\n",
    "\n",
    "#### (iii) What Happened in 2010? \n",
    "\n",
    "Can you explain why the life expectancy was so low in that country for that particular year?\n",
    "\n",
    "(*Hint*: if you don't remember, Google the country name and year in question.)\n"
   ]
  },
  {
   "cell_type": "markdown",
   "metadata": {},
   "source": [
    "_Type your answer here, replacing this text._"
   ]
  },
  {
   "cell_type": "markdown",
   "metadata": {},
   "source": [
    "<!-- END QUESTION -->\n",
    "\n",
    "---\n",
    "## 2. Scatterplot smooths\n",
    "\n",
    "In this brief section you'll see two techniques for smoothing scatterplots: LOESS, which produces a curve; and regression, which produces a linear smooth.\n",
    "\n"
   ]
  },
  {
   "cell_type": "markdown",
   "metadata": {},
   "source": [
    "The next parts will modify the dataframe `data` by adding a column. We'll create a copy `data_mod1` of the original dataframe `data` to modify as to not lose track of our previous work:"
   ]
  },
  {
   "cell_type": "code",
   "execution_count": null,
   "metadata": {},
   "outputs": [],
   "source": [
    "data_mod1 = data.copy()"
   ]
  },
  {
   "cell_type": "markdown",
   "metadata": {},
   "source": [
    "### LOESS\n",
    "\n",
    "**Lo**cally w**e**ighted **s**catterplot **s**moothing (LOESS) is a flexible smoothing technique for visualizing trends in scatterplots. The technical details are a little beyond us at the moment, but it's easy enought to implement.\n",
    "\n",
    "To illustrate, consider the scatterplots you made in lab 3 showing the relationship between life expectancy and GDP per capita. The plot for 2010 looked like this:"
   ]
  },
  {
   "cell_type": "code",
   "execution_count": null,
   "metadata": {},
   "outputs": [],
   "source": [
    "# log transform gdp explicitly\n",
    "data_mod1['log(GDP per capita)'] = np.log(data_mod1['GDP per capita'])\n",
    "\n",
    "# scatterplot\n",
    "scatter = alt.Chart(data_mod1).transform_filter(\n",
    "    alt.FieldEqualPredicate(field = 'Year', equal = 2000)\n",
    ").mark_circle(opacity = 0.5).encode(\n",
    "    x = alt.X('log(GDP per capita)', scale = alt.Scale(zero = False)),\n",
    "    y = alt.Y('Life Expectancy', title = 'Life Expectancy at Birth', scale = alt.Scale(zero = False)),\n",
    "    size = alt.Size('Population', scale = alt.Scale(type = 'sqrt'))\n",
    ")\n",
    "\n",
    "# show\n",
    "scatter"
   ]
  },
  {
   "cell_type": "markdown",
   "metadata": {},
   "source": [
    "To add a LOESS curve, simply append `.transform_loess()` to the base plot: "
   ]
  },
  {
   "cell_type": "code",
   "execution_count": null,
   "metadata": {},
   "outputs": [],
   "source": [
    "# compute smooth\n",
    "smooth = scatter.transform_loess(\n",
    "    on = 'log(GDP per capita)', # x variable\n",
    "    loess = 'Life Expectancy', # y variable\n",
    "    bandwidth = 0.25 # how smooth?\n",
    ").mark_line(color = 'black')\n",
    "\n",
    "# add as a layer to the scatterplot\n",
    "scatter + smooth"
   ]
  },
  {
   "cell_type": "markdown",
   "metadata": {},
   "source": [
    "Just as with kernel density estimates, LOESS curves have a bandwidth parameter that controls how smooth or wiggly the curve is. In Altair, the LOESS bandwidth is a unitless parameter between 0 and 1."
   ]
  },
  {
   "cell_type": "markdown",
   "metadata": {},
   "source": [
    "<!-- BEGIN QUESTION -->\n",
    "\n",
    "### Question 2a. LOESS bandwidth selection\n",
    "\n",
    "Tinker with the bandwidth parameter to see its effect in the cell below. Then choose a value that produces a smoothing you find appropriate for indicating the general trend shown in the scatter.\n"
   ]
  },
  {
   "cell_type": "code",
   "execution_count": null,
   "metadata": {
    "tags": []
   },
   "outputs": [],
   "source": [
    "# compute smooth\n",
    "...\n",
    "\n",
    "# add as a layer to the scatterplot\n",
    "..."
   ]
  },
  {
   "cell_type": "markdown",
   "metadata": {},
   "source": [
    "<!-- END QUESTION -->\n",
    "\n",
    "LOESS curves can also be computed groupwise. For instance, to display separate curves for each region, one need only pass a `groupby = ...` argument to `.transform_loess()`:"
   ]
  },
  {
   "cell_type": "code",
   "execution_count": null,
   "metadata": {},
   "outputs": [],
   "source": [
    "# scatterplot\n",
    "scatter = alt.Chart(data_mod1).transform_filter(\n",
    "    alt.FieldEqualPredicate(field = 'Year', equal = 2000)\n",
    ").mark_circle(opacity = 0.5).encode(\n",
    "    x = alt.X('log(GDP per capita)', scale = alt.Scale(zero = False)),\n",
    "    y = alt.Y('Life Expectancy', title = 'Life Expectancy at Birth', scale = alt.Scale(zero = False)),\n",
    "    size = alt.Size('Population', scale = alt.Scale(type = 'sqrt')),\n",
    "    color = 'region'\n",
    ")\n",
    "\n",
    "# compute smooth\n",
    "smooth = scatter.transform_loess(\n",
    "    groupby = ['region'], # add groupby\n",
    "    on = 'log(GDP per capita)', \n",
    "    loess = 'Life Expectancy', \n",
    "    bandwidth = 0.8 \n",
    ").mark_line(color = 'black')\n",
    "\n",
    "# add as a layer to the scatterplot\n",
    "scatter + smooth"
   ]
  },
  {
   "cell_type": "markdown",
   "metadata": {},
   "source": [
    "The curves are a little jagged because there aren't very many countries in each region."
   ]
  },
  {
   "cell_type": "code",
   "execution_count": null,
   "metadata": {},
   "outputs": [],
   "source": [
    "data_mod1[data_mod1.Year == 2000].groupby('region').count().iloc[:, [0]]"
   ]
  },
  {
   "cell_type": "markdown",
   "metadata": {},
   "source": [
    "### Regression\n",
    "\n",
    "You will be learning more about linear regression later in the course, but we can introduce regression lines now as a visualization technique. As with LOESS, you don't need to concern yourself with the mathematical details (yet!). From this perspective, regression is a form of *linear* smoothing -- a regression smooth is a straight line. By contrast, LOESS smooths have *curvature* -- they are not straight lines.\n",
    "\n",
    "In the example above, the LOESS curves don't have much curvature. So it may be a cleaner choice visually to show linear smooths. This can be done using `.transform_regression(...)` with a similar argument structure."
   ]
  },
  {
   "cell_type": "code",
   "execution_count": null,
   "metadata": {},
   "outputs": [],
   "source": [
    "# scatterplot\n",
    "scatter = alt.Chart(data_mod1).transform_filter(\n",
    "    alt.FieldEqualPredicate(field = 'Year', equal = 2000)\n",
    ").mark_circle(opacity = 0.5).encode(\n",
    "    x = alt.X('log(GDP per capita)', scale = alt.Scale(zero = False)),\n",
    "    y = alt.Y('Life Expectancy', title = 'Life Expectancy at Birth', scale = alt.Scale(zero = False)),\n",
    "    size = alt.Size('Population', scale = alt.Scale(type = 'sqrt')),\n",
    "    color = 'region'\n",
    ")\n",
    "\n",
    "# compute smooth\n",
    "smooth = scatter.transform_regression(\n",
    "    groupby = ['region'],\n",
    "    on = 'log(GDP per capita)', \n",
    "    regression = 'Life Expectancy'\n",
    ").mark_line(color = 'black')\n",
    "\n",
    "# add as a layer to the scatterplot\n",
    "scatter + smooth"
   ]
  },
  {
   "cell_type": "markdown",
   "metadata": {},
   "source": [
    "<!-- BEGIN QUESTION -->\n",
    "\n",
    "### Question 2b. Simple regression line\n",
    "\n",
    "Based on the example immediately above, construct a scatterplot of life expectancy against log GDP per capita in 2010 with points sized according to population (and no distinction between regions). Layer a single linear smooth on the scatterplot using `.transform_regression(...)`.\n",
    "\n",
    "(*Hint*: remove the color aesthetic and grouping from the previous plot.)\n"
   ]
  },
  {
   "cell_type": "code",
   "execution_count": null,
   "metadata": {
    "tags": []
   },
   "outputs": [],
   "source": [
    "# construct scatterplot\n",
    "...\n",
    "\n",
    "# construct smooth\n",
    "...\n",
    "\n",
    "# layer\n",
    "..."
   ]
  },
  {
   "cell_type": "markdown",
   "metadata": {},
   "source": [
    "<!-- END QUESTION -->\n",
    "\n",
    "---\n",
    "## 3. Neat trick\n",
    "\n",
    "Let's combine the scatterplot with a smooth from part 2 with the density estimates in part 1. This is an example of combining multiple plots into one visual. \n",
    "\n",
    "Why combine? Well, sometimes it's useful to visualize the distribution of the variable of interest *together with* its relationship to another variable. Imagine, for example, that you're interested in seeing both:\n",
    "* the relationship between life expectancy and GDP per capita by region; and\n",
    "* the distributions of life expeectancies by region.\n",
    "\n",
    "We can flip the density estimates on their side and append them as a facet to the right-hand side of the scatterplot as follows:"
   ]
  },
  {
   "cell_type": "code",
   "execution_count": null,
   "metadata": {},
   "outputs": [],
   "source": [
    "# scatterplot with linear smooth\n",
    "scatter = alt.Chart(data_mod1).transform_filter(\n",
    "    alt.FieldEqualPredicate(field = 'Year', equal = 2000)\n",
    ").mark_circle(opacity = 0.5).encode(\n",
    "    x = alt.X('log(GDP per capita)', scale = alt.Scale(zero = False)),\n",
    "    y = alt.Y('Life Expectancy', title = 'Life Expectancy at Birth', scale = alt.Scale(zero = False)),\n",
    "    size = alt.Size('Population', scale = alt.Scale(type = 'sqrt')),\n",
    "    color = 'region'\n",
    ")\n",
    "\n",
    "smooth = scatter.transform_regression(\n",
    "    groupby = ['region'],\n",
    "    on = 'log(GDP per capita)', \n",
    "    regression = 'Life Expectancy'\n",
    ").mark_line(color = 'black')\n",
    "\n",
    "# density estimates\n",
    "p = alt.Chart(data_mod1).transform_filter(\n",
    "    alt.FieldEqualPredicate(field = 'Year',\n",
    "                            equal = 2000)\n",
    ").transform_density(\n",
    "    density = 'Life Expectancy',\n",
    "    groupby = ['region'], # change here\n",
    "    as_ = ['Life Expectancy at Birth', 'Estimated density'],\n",
    "    bandwidth = 2, \n",
    "    extent = [40, 85],\n",
    "    steps = 1000 \n",
    ").mark_line(order = False).encode(\n",
    "    y = alt.Y('Life Expectancy at Birth:Q', \n",
    "              scale = alt.Scale(domain = (40, 85)), \n",
    "              title = '', \n",
    "              axis = None),\n",
    "    x = alt.X('Estimated density:Q',\n",
    "              title = '',\n",
    "              axis = None),\n",
    "    color = alt.Color('region:N')\n",
    ").properties(width = 60)\n",
    "\n",
    "# facet structure\n",
    "(scatter + smooth) | (p + p.mark_area(order = False, opacity = 0.1))"
   ]
  },
  {
   "cell_type": "markdown",
   "metadata": {
    "tags": []
   },
   "source": [
    "---\n",
    "## Submission Checklist\n",
    "1. Save file to confirm all changes are on disk\n",
    "2. Run *Kernel > Restart & Run All* to execute all code from top to bottom\n",
    "3. Save file again to write any new output to disk\n",
    "4. Select *File > Download as > HTML*.\n",
    "5. Open in Google Chrome and print to PDF on A3 paper in portrait orientation.\n",
    "6. Submit to Gradescope"
   ]
  },
  {
   "cell_type": "markdown",
   "metadata": {
    "deletable": false,
    "editable": false
   },
   "source": [
    "---\n",
    "\n",
    "To double-check your work, the cell below will rerun all of the autograder tests."
   ]
  },
  {
   "cell_type": "code",
   "execution_count": null,
   "metadata": {
    "deletable": false,
    "editable": false
   },
   "outputs": [],
   "source": [
    "grader.check_all()"
   ]
  }
 ],
 "metadata": {
  "kernelspec": {
   "display_name": "Python 3",
   "language": "python",
   "name": "python3"
  },
  "language_info": {
   "codemirror_mode": {
    "name": "ipython",
    "version": 3
   },
   "file_extension": ".py",
   "mimetype": "text/x-python",
   "name": "python",
   "nbconvert_exporter": "python",
   "pygments_lexer": "ipython3",
   "version": "3.7.4"
  },
  "otter": {
   "tests": {
    "q0_ci": {
     "name": "q0_ci",
     "points": 1,
     "suites": [
      {
       "cases": [
        {
         "code": ">>> (sample_size*bin_width) % 3 == 0\nTrue",
         "hidden": false,
         "locked": false
        }
       ],
       "scored": true,
       "setup": "",
       "teardown": "",
       "type": "doctest"
      }
     ]
    },
    "q1_d_i": {
     "name": "q1_d_i",
     "points": 1,
     "suites": [
      {
       "cases": [
        {
         "code": ">>> (lowest_Americas[\"region\"] == \"Americas\").values[0]\nTrue",
         "hidden": false,
         "locked": false
        },
        {
         "code": ">>> (lowest_Americas[\"Male Life Expectancy\"] == 28.0).values[0]\nTrue",
         "hidden": false,
         "locked": false
        }
       ],
       "scored": true,
       "setup": "",
       "teardown": "",
       "type": "doctest"
      }
     ]
    }
   }
  }
 },
 "nbformat": 4,
 "nbformat_minor": 4
}
