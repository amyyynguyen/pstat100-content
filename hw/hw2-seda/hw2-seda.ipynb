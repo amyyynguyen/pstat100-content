{
 "cells": [
  {
   "cell_type": "code",
   "execution_count": null,
   "metadata": {
    "deletable": false,
    "editable": false
   },
   "outputs": [],
   "source": [
    "# Initialize Otter\n",
    "import otter\n",
    "grader = otter.Notebook(\"hw2-seda.ipynb\")"
   ]
  },
  {
   "cell_type": "markdown",
   "metadata": {},
   "source": [
    "# PSTAT 100 Homework 2"
   ]
  },
  {
   "cell_type": "code",
   "execution_count": null,
   "metadata": {},
   "outputs": [],
   "source": [
    "import numpy as np\n",
    "import pandas as pd\n",
    "import altair as alt"
   ]
  },
  {
   "cell_type": "markdown",
   "metadata": {},
   "source": [
    "## Background \n",
    "\n",
    "Gender achievement gaps in education have been well-documented over the years -- studies consistently find boys outperforming girls on math tests and girls outperforming boys on reading and language tests. A particularly controversial [article](https://www.jstor.org/stable/1684489) was published in Science in 1980 arguing that this pattern was due to an 'innate' difference in ability (focusing, of course, on mathematics rather than on reading and language). Such views persisted in part because studying systematic patterns in achievement nationwide was a challenge due to differential testing standards across school districts and the general lack of availability of large-scale data.\n",
    "\n",
    "It is only recently that data-driven research has begun to reveal socioeconomic drivers of achievement gaps. The [Standford Educational Data Archive](https://edopportunity.org/) (SEDA), a publicly available database on academic achievement and educational opportunity in U.S. schools, has supported this effort. The database is part of a broader initiave aiming to improve educational opportunity by enabling researchers and policymakers to identify systemic drivers of disparity.\n",
    "\n",
    "> SEDA includes a range of detailed data on educational conditions, contexts, and outcomes in school districts and counties across the United States. It includes measures of academic achievement and achievement gaps for school districts and counties, as well as district-level measures of racial and socioeconomic composition, racial and socioeconomic segregation patterns, and other features of the schooling system.\n",
    "\n",
    "The database standardizes average test scores for schools 10,000 U.S. school districts relative to national standards to allow comparability between school districts and across grade levels and years. The test score data come from the U.S. Department of Education. In addition, multiple data sources (American Community Survey and Common Core of Data) are integrated to provide district-level socioeconomic and demographic information.\n",
    "\n",
    "A [study of the SEDA data published in 2018](https://cepa.stanford.edu/content/gender-achievement-gaps-us-school-districts) identified the following persistent patterns across grade levels 3 - 8 and school ears from 2008 through 2015:\n",
    "* a consistent reading and language achievement gap favoring girls;\n",
    "* *no* national math achievement gap on average; and\n",
    "* local math achievement gaps that depend on the socioeconomic conditions of school districts.\n",
    "You can read about the main findings of the study in this [brief NY Times article](https://www.nytimes.com/interactive/2018/06/13/upshot/boys-girls-math-reading-tests.html).\n",
    "\n",
    "Below, we'll work with selected portions of the database. The full datasets can be downloaded [here](https://edopportunity.org/get-the-data/seda-archive-downloads/).\n",
    "\n",
    "---\n",
    "## Assignment objectives\n",
    "\n",
    "In this assignment, you'll explore achievement gaps in California school districts in 2018, reproducing the findings described [in the article above](https://www.nytimes.com/interactive/2018/06/13/upshot/boys-girls-math-reading-tests.html) on a more local scale and with the most recent SEDA data. This will afford you an opportunity to practice the first several stages of the data science lifecycle: collect, acquaint, tidy, and explore.\n",
    "\n",
    "**Collect/acquiant**\n",
    "* review data documentation\n",
    "* identify population, sampling frame, sample\n",
    "* assess scope of inference\n",
    "\n",
    "**Tidy**\n",
    "* data import\n",
    "* slicing and filtering\n",
    "* merging multiple data frames\n",
    "* pivoting tables\n",
    "* renaming and reordering variables\n",
    "\n",
    "**Explore**\n",
    "* scatterplots\n",
    "* basic plotting aesthetics\n",
    "* faceted plots\n",
    "* visualizing trends\n",
    "* aggregation and tabulation\n",
    "\n",
    "**Communicate**\n",
    "* narrative summary of exploratory analysis\n",
    "\n",
    "---\n",
    "\n",
    "### Collaboration\n",
    "\n",
    "You are encouraged to collaborate with other students on the labs, but are expected to write up your own work for submission. Copying and pasting others' solutions is considered plaigarism and may result in penalties, depending on severity and extent. \n",
    "\n",
    "If you choose to work with others, please list their names here.\n",
    "\n",
    "**Your name:**\n",
    "\n",
    "**Collaborators:**\n"
   ]
  },
  {
   "cell_type": "markdown",
   "metadata": {},
   "source": [
    "---\n",
    "## 0. Getting acquainted with the SEDA data\n",
    "\n",
    "The cell below imports the district-level SEDA data from California in 2018. The test score data is stored in a separate file (`ca-main.csv`) from the socioeconomic and demographic covariate data (`ca-cov.csv`). "
   ]
  },
  {
   "cell_type": "code",
   "execution_count": null,
   "metadata": {},
   "outputs": [],
   "source": [
    "# import seda data\n",
    "ca_main = pd.read_csv('data/ca-main.csv')\n",
    "ca_cov = pd.read_csv('data/ca-cov.csv')"
   ]
  },
  {
   "cell_type": "markdown",
   "metadata": {},
   "source": [
    "### Test score data\n",
    "\n",
    "The first few rows of the test data are shown below. The columns are:\n",
    "\n",
    "Column name | Meaning\n",
    "---|---\n",
    "`sedalea` | District ID\n",
    "`grade` | Grade level\n",
    "`stateabb` | State abbreviation\n",
    "`sedaleaname` | District name\n",
    "`subject` | Test subject\n",
    "`cs_mn_...` | Estimated mean test score\n",
    "`cs_mnse_...` | Standard error for estimated mean test score\n",
    "`totgyb_...` | Number of individual tests used to estimate the mean score"
   ]
  },
  {
   "cell_type": "code",
   "execution_count": null,
   "metadata": {},
   "outputs": [],
   "source": [
    "ca_main.head(3)"
   ]
  },
  {
   "cell_type": "markdown",
   "metadata": {},
   "source": [
    "The test score means for each district are named `cs_mn_...` with an abbreviation indicating subgroup (such as mean score for all `cs_mean_all`, for boys `cs_mean_mal`, for white students `cs_mn_wht`, and so on). Notice that these are generally small-ish: decimal numbers between -0.5 and 0.5.\n",
    "\n",
    "These means are *estimated* from a number of individual student tests and *standardized* relative to national averages. They represent the number of standard deviations by which a district mean differs from the national average. So, for instance, the value `cs_mn_all = 0.1` indicates that the district average is estimated to be 0.1 standard deviations greater than the national average on the corresponding test and at the corresponding grade level."
   ]
  },
  {
   "cell_type": "markdown",
   "metadata": {},
   "source": [
    "<!-- BEGIN QUESTION -->\n",
    "\n",
    "### Q0 (a). Interpreting test score values\n",
    "\n",
    "Interpret the average math test score for all 4th grade students in Acton-Agua Dulce Unified School District (the first row of the dataset shown above).\n"
   ]
  },
  {
   "cell_type": "markdown",
   "metadata": {},
   "source": [
    "_Type your answer here, replacing this text._"
   ]
  },
  {
   "cell_type": "markdown",
   "metadata": {},
   "source": [
    "<!-- END QUESTION -->\n",
    "\n",
    "### Covariate data\n",
    "\n",
    "The first few rows of the covariate data are shown below. The column information is as follows:\n",
    "\n",
    "Column name | Meaning\n",
    "---|---\n",
    "`sedalea` | District ID\n",
    "`grade` | Grade level\n",
    "`sedaleanm` | District name\n",
    "`urban` | Indicator: is the district in an urban locale?\n",
    "`suburb` | Indicator: is the district in a suburban locale?\n",
    "`town` | Indicator: is the district in a town locale?\n",
    "`rural` | Indicator: is the district in a rural locale?\n",
    "`locale` | Description of district locale\n",
    "Remaining variables | Demographic and socioeconomic measures"
   ]
  },
  {
   "cell_type": "code",
   "execution_count": null,
   "metadata": {},
   "outputs": [],
   "source": [
    "ca_cov.head(3)"
   ]
  },
  {
   "cell_type": "markdown",
   "metadata": {},
   "source": [
    "You will only be working with a handful of the demographic and socioeconomic measures, so you can put off getting acquainted with those until selecting a subset of variables."
   ]
  },
  {
   "cell_type": "markdown",
   "metadata": {},
   "source": [
    "<!-- BEGIN QUESTION -->\n",
    "\n",
    "### Q0 (b). Data semantics\n",
    "\n",
    "In the non-public data, observational units are students -- test scores are measured for each student. However, in the SEDA data you've imported, scores are *aggregated* to the district level by grade. Let's regard estimated test score means for each grade as distinct variables, so that an observation consists in a set of estimated means for different grade levels and groups. In this view, what are the observational units in the test score dataset? Are they the same or different for the covariate dataset?\n"
   ]
  },
  {
   "cell_type": "markdown",
   "metadata": {},
   "source": [
    "_Type your answer here, replacing this text._"
   ]
  },
  {
   "cell_type": "markdown",
   "metadata": {},
   "source": [
    "<!-- END QUESTION -->\n",
    "\n",
    "### Q0 (c). Sample sizes\n",
    "\n",
    "How many observational units are in each dataset? Count the number of units in the test dataset and the number of units in the covariate dataset separately. Store the numbers as `ca_cov_units` and `ca_main_units`, respectively. \n",
    "\n",
    "(*Hint*: use `.nunique()`.)\n"
   ]
  },
  {
   "cell_type": "code",
   "execution_count": null,
   "metadata": {
    "tags": []
   },
   "outputs": [],
   "source": [
    "ca_cov_units = ...\n",
    "ca_main_units = ..."
   ]
  },
  {
   "cell_type": "code",
   "execution_count": null,
   "metadata": {
    "deletable": false,
    "editable": false
   },
   "outputs": [],
   "source": [
    "grader.check(\"q0_c\")"
   ]
  },
  {
   "cell_type": "markdown",
   "metadata": {},
   "source": [
    "### Q0 (d). Sample characteristics\n",
    "\n",
    "Answer the questions below about the sampling design. You do not need to dig through any data documentation in order to resolve these questions."
   ]
  },
  {
   "cell_type": "markdown",
   "metadata": {},
   "source": [
    "<!-- BEGIN QUESTION -->\n",
    "\n",
    "#### (i) What is the relevant population for the datasets you've imported?\n"
   ]
  },
  {
   "cell_type": "markdown",
   "metadata": {},
   "source": [
    "_Type your answer here, replacing this text._"
   ]
  },
  {
   "cell_type": "markdown",
   "metadata": {},
   "source": [
    "<!-- END QUESTION -->\n",
    "\n",
    "<!-- BEGIN QUESTION -->\n",
    "\n",
    "#### (ii) About what proportion (to within 0.1) of the population is captured in the sample?\n",
    "(*Hint*: have a look at [this website](https://www.cde.ca.gov/ds/sd/cb/ceffingertipfacts.asp).)\n"
   ]
  },
  {
   "cell_type": "markdown",
   "metadata": {},
   "source": [
    "_Type your answer here, replacing this text._"
   ]
  },
  {
   "cell_type": "markdown",
   "metadata": {},
   "source": [
    "<!-- END QUESTION -->\n",
    "\n",
    "<!-- BEGIN QUESTION -->\n",
    "\n",
    "#### (iii) Considering that the sampling frame is not identified clearly, what kind of dataset do you suspect this is (*e.g.*, administrative, data from a 'typical sample', census, etc.)?  \n"
   ]
  },
  {
   "cell_type": "markdown",
   "metadata": {},
   "source": [
    "_Type your answer here, replacing this text._"
   ]
  },
  {
   "cell_type": "markdown",
   "metadata": {},
   "source": [
    "<!-- END QUESTION -->\n",
    "\n",
    "<!-- BEGIN QUESTION -->\n",
    "\n",
    "### Q0 (e). Scope of inference\n",
    "\n",
    "In light of your description of the sample characteristics, what is the scope of inference for this dataset?\n"
   ]
  },
  {
   "cell_type": "markdown",
   "metadata": {},
   "source": [
    "_Type your answer here, replacing this text._"
   ]
  },
  {
   "cell_type": "markdown",
   "metadata": {},
   "source": [
    "<!-- END QUESTION -->\n",
    "\n",
    "---\n",
    "## 1. Tidy\n",
    "\n",
    "Your goal will be to examine the relationship between gender achievement gaps and socioeconomic measures for school districts in California in 2018. In order to do this, the following manipulations of the imported data are needed:\n",
    "* selecting columns of interest;\n",
    "* filtering out non-urban districts;\n",
    "* merging the covariate data with the test data; and\n",
    "* putting the result in tidy format.\n",
    "\n",
    "Since you've already had some guided practice doing this in previous assignments, you'll be left to fill in a little bit more of the details on your own in this assignment.\n",
    "\n",
    "You'll work with the following variables from each dataset:\n",
    "\n",
    "* **Test score data**\n",
    "    + District ID\n",
    "    + District name\n",
    "    + Grade\n",
    "    + Test subject\n",
    "    + Estimated male-female gap\n",
    "* **Covariate data**\n",
    "    + District ID\n",
    "    + Locale\n",
    "    + Grade\n",
    "    + Socioeconomic status (all demographic groups)\n",
    "    + Log median income (all demographic groups)\n",
    "    + Poverty rate (all demographic groups)\n",
    "    + Unemployment rate (all demographic groups)\n",
    "    + SNAP benefit receipt rate (all demographic groups)"
   ]
  },
  {
   "cell_type": "markdown",
   "metadata": {},
   "source": [
    "### Q1 (a). Variable names of interest\n",
    "\n",
    "Download the codebooks by opening the 'data' directory from your Jupyter Lab file navigator (pstat100-s21-content > hw > hw2 > data), right-click the codebook .xlsx files, and select 'Download'. Identify the variables listed above, and store the column names in lists `main_vars` and `cov_vars`. \n"
   ]
  },
  {
   "cell_type": "code",
   "execution_count": null,
   "metadata": {
    "tags": []
   },
   "outputs": [],
   "source": [
    "# store variable names of interest\n",
    "main_vars = ...\n",
    "cov_vars = ..."
   ]
  },
  {
   "cell_type": "code",
   "execution_count": null,
   "metadata": {
    "deletable": false,
    "editable": false
   },
   "outputs": [],
   "source": [
    "grader.check(\"q1_a\")"
   ]
  },
  {
   "cell_type": "markdown",
   "metadata": {},
   "source": [
    "### Q1 (b). Slice columns\n",
    "\n",
    "Use your result from Q1 (a) to slice the columns of interest from the covariate and test score data. Store the results as `main_sub` and `cov_sub`.\n"
   ]
  },
  {
   "cell_type": "code",
   "execution_count": null,
   "metadata": {
    "tags": []
   },
   "outputs": [],
   "source": [
    "# slice columns to select variables of interest\n",
    "main_sub = ...\n",
    "cov_sub = ..."
   ]
  },
  {
   "cell_type": "code",
   "execution_count": null,
   "metadata": {
    "deletable": false,
    "editable": false
   },
   "outputs": [],
   "source": [
    "grader.check(\"q1_b\")"
   ]
  },
  {
   "cell_type": "markdown",
   "metadata": {},
   "source": [
    "In the next step you'll merge the covariate data with the test score data. In order to do this, you can use the `pd.merge(A, B, how = ..., on = SHARED_COLS)` function, which will match the rows of `A` and `B` based on the shared columns `SHARED_COLS`. If `how = 'left'`, then only rows in `A` will be retained in the output (so `B` will be merged *to* `A`); conversely, if `how = 'right'`, then only rows in `B` will be retained in the output (so `A` will be merged *to* `B`).\n",
    "\n",
    "A simple example of the use of `pd.merge` is illustrated below:"
   ]
  },
  {
   "cell_type": "code",
   "execution_count": null,
   "metadata": {},
   "outputs": [],
   "source": [
    "# toy data frames\n",
    "A = pd.DataFrame(\n",
    "    {'shared_col': ['a', 'b', 'c'], \n",
    "    'x1': [1, 2, 3], \n",
    "    'x2': [4, 5, 6]}\n",
    ")\n",
    "\n",
    "B = pd.DataFrame(\n",
    "    {'shared_col': ['a', 'b'], \n",
    "    'y1': [7, 8]}\n",
    ")"
   ]
  },
  {
   "cell_type": "code",
   "execution_count": null,
   "metadata": {},
   "outputs": [],
   "source": [
    "A"
   ]
  },
  {
   "cell_type": "code",
   "execution_count": null,
   "metadata": {},
   "outputs": [],
   "source": [
    "B"
   ]
  },
  {
   "cell_type": "markdown",
   "metadata": {},
   "source": [
    "Below, if `A` and `B` are merged retaining the rows in `A`, notice that a missing value is input because `B` has no row where the shared column (on which the merging is done) has value `c`. In other words, the third row of `A` has no match in `B`."
   ]
  },
  {
   "cell_type": "code",
   "execution_count": null,
   "metadata": {},
   "outputs": [],
   "source": [
    "# left join\n",
    "pd.merge(A, B, how = 'left', on = 'shared_col')"
   ]
  },
  {
   "cell_type": "markdown",
   "metadata": {},
   "source": [
    "If the direction of merging is reversed, and the row structure of `B` is dominant, then the third row of `A` is dropped altogether because it has no match in `B`."
   ]
  },
  {
   "cell_type": "code",
   "execution_count": null,
   "metadata": {},
   "outputs": [],
   "source": [
    "# right join\n",
    "pd.merge(A, B, how = 'right', on = 'shared_col')"
   ]
  },
  {
   "cell_type": "markdown",
   "metadata": {},
   "source": [
    "### Q1 (c). Merge\n",
    "\n",
    "Follow the example above and merge the covariate and test score data on both the ***district ID*** and ***grade level***, retaining only the columns from the test score data (meaning, treat the test score data as primary and merge the covariate data *to* the test score data). Store the result as `rawdata` and print the first four rows. \n",
    "\n",
    "**Hint**: When merging on multiple columns, you can utilize a list to hold both column names.\n"
   ]
  },
  {
   "cell_type": "code",
   "execution_count": null,
   "metadata": {
    "tags": []
   },
   "outputs": [],
   "source": [
    "# merge covariates with gap data\n",
    "rawdata = ...\n",
    "\n",
    "# print first four rows\n",
    "..."
   ]
  },
  {
   "cell_type": "code",
   "execution_count": null,
   "metadata": {
    "deletable": false,
    "editable": false
   },
   "outputs": [],
   "source": [
    "grader.check(\"q1_c\")"
   ]
  },
  {
   "cell_type": "markdown",
   "metadata": {},
   "source": [
    "### Q1 (d). Rename and reorder columns\n",
    "\n",
    "Now rename and rearrange the columns of `rawdata` so that they appear in the following order and with the following names:\n",
    "\n",
    "* District ID, District, Locale, log(Median income), Poverty rate, Unemployment rate, SNAP rate, Socioeconomic index, Grade, Gender gap, Subject \n",
    "\n",
    "Store the result as `rawdata_mod1` and print the first four rows.\n",
    "\n",
    "(*Hint*: first define a dictionary to map the old names to the new ones; then create a list of the new names specified in the desired order; then use `.rename()` and `.loc[]`. You can follow the renaming steps in HW1 as an example if needed.)\n"
   ]
  },
  {
   "cell_type": "code",
   "execution_count": null,
   "metadata": {
    "tags": []
   },
   "outputs": [],
   "source": [
    "# define dictionary mapping for renaming columns\n",
    "...\n",
    "\n",
    "# specify order of columns\n",
    "...\n",
    "\n",
    "# rename and reorder\n",
    "...\n",
    "\n",
    "# print first four rows\n",
    "..."
   ]
  },
  {
   "cell_type": "code",
   "execution_count": null,
   "metadata": {
    "deletable": false,
    "editable": false
   },
   "outputs": [],
   "source": [
    "grader.check(\"q1_d\")"
   ]
  },
  {
   "cell_type": "markdown",
   "metadata": {},
   "source": [
    "### Q1 (e). Pivot\n",
    "\n",
    "Notice that the Gender gap column contains the values of two variables: the gap in estimated mean test scores for math tests, and the gap in estimated mean test scores for reading and language tests. To put the data in tidier format, use `.pivot` to pivot the table so that the gender gap column is spread into two columns corresponding to the entries of `Subject`. Name the resulting columns `Math gap` and `Reading gap`, and store the result as `rawdata_mod2` and print the first four rows.\n",
    "\n",
    "*Comment*: an alternative solution is to manipulate the indices and use `.unstack()`. Either method will produce a dataframe with hierarchical column indexing; this will need to be collapsed in order to rename the columns as instructed. You may find `MultiIndex.droplevel()` to be of use."
   ]
  },
  {
   "cell_type": "code",
   "execution_count": null,
   "metadata": {
    "tags": []
   },
   "outputs": [],
   "source": [
    "# pivot to unstack gender gap (fixing tidy issue: multiple variables in one column)\n",
    "...\n",
    "\n",
    "# print first four rows\n",
    "..."
   ]
  },
  {
   "cell_type": "code",
   "execution_count": null,
   "metadata": {
    "deletable": false,
    "editable": false
   },
   "outputs": [],
   "source": [
    "grader.check(\"q1_e\")"
   ]
  },
  {
   "cell_type": "markdown",
   "metadata": {},
   "source": [
    "### Q1 (f). Indexing\n",
    "\n",
    "If necessary, remove the name of the column index ('Subject') that was induced by the pivot step using `.rename_axis()`, and store the result as `data`; otherwise, simply store a copy of the previous dataframe as `data`. Print the first four rows."
   ]
  },
  {
   "cell_type": "code",
   "execution_count": null,
   "metadata": {
    "tags": []
   },
   "outputs": [],
   "source": [
    "# drop the name of column index induced by pivoting\n",
    "data = ...\n",
    "\n",
    "# print first four rows\n",
    "..."
   ]
  },
  {
   "cell_type": "markdown",
   "metadata": {},
   "source": [
    "Your final dataset should match the dataframe below. You can use this to check your answer and revise any portions above that lead to different results."
   ]
  },
  {
   "cell_type": "code",
   "execution_count": null,
   "metadata": {},
   "outputs": [],
   "source": [
    "# intended result\n",
    "data_reference = pd.read_csv('data/tidy-seda.csv')\n",
    "data_reference.head(4)"
   ]
  },
  {
   "cell_type": "markdown",
   "metadata": {},
   "source": [
    "### Q1 (g). Sanity check\n",
    "\n",
    "Ensure that your tidying did not inadvertently drop any observations: count the number of units in `data`. Does this match the number of units represented in the original test score data `ca_main`? Store these as `data_units` and `ca_main_units`, respectively.\n",
    "\n",
    "(*Hint*: use `.nunique()`.)\n"
   ]
  },
  {
   "cell_type": "code",
   "execution_count": null,
   "metadata": {
    "tags": []
   },
   "outputs": [],
   "source": [
    "# number of districts in tidied data compared with raw\n",
    "data_units = ...\n",
    "ca_main_units = ..."
   ]
  },
  {
   "cell_type": "code",
   "execution_count": null,
   "metadata": {
    "deletable": false,
    "editable": false
   },
   "outputs": [],
   "source": [
    "grader.check(\"q1_g\")"
   ]
  },
  {
   "cell_type": "markdown",
   "metadata": {},
   "source": [
    "### Q1 (h). Missing values\n",
    "\n",
    "Gap estimates were not calculated for certain grades in certain districts due to small sample sizes (not enough individual tests recorded)."
   ]
  },
  {
   "cell_type": "markdown",
   "metadata": {},
   "source": [
    "#### (i) What proportion of rows are missing for each of the reading and math gap variables? \n",
    "Store these as `math_missing` and `reading_missing`, respectively.\n",
    "\n",
    "**Hint**: Can utilize the fact that both columns have the ending of \"gap\" to subset the dataframe."
   ]
  },
  {
   "cell_type": "code",
   "execution_count": null,
   "metadata": {
    "tags": []
   },
   "outputs": [],
   "source": [
    "# proportion of missing values\n",
    "..."
   ]
  },
  {
   "cell_type": "code",
   "execution_count": null,
   "metadata": {
    "deletable": false,
    "editable": false
   },
   "outputs": [],
   "source": [
    "grader.check(\"q1_h_i\")"
   ]
  },
  {
   "cell_type": "markdown",
   "metadata": {},
   "source": [
    "#### (ii) What proportion of *districts* have missing gap estimates for one or both test subjects for at least one grade level?\n",
    "\n",
    "Save the value as `district_missing`.\n"
   ]
  },
  {
   "cell_type": "code",
   "execution_count": null,
   "metadata": {
    "tags": []
   },
   "outputs": [],
   "source": [
    "# proportion of districts with missing values\n",
    "..."
   ]
  },
  {
   "cell_type": "code",
   "execution_count": null,
   "metadata": {
    "deletable": false,
    "editable": false
   },
   "outputs": [],
   "source": [
    "grader.check(\"q1_h_ii\")"
   ]
  },
  {
   "cell_type": "markdown",
   "metadata": {},
   "source": [
    "<!-- BEGIN QUESTION -->\n",
    "\n",
    "#### (iii) Do you expect that this missingness is related to any particular district attribute(s)?\n"
   ]
  },
  {
   "cell_type": "markdown",
   "metadata": {},
   "source": [
    "_Type your answer here, replacing this text._"
   ]
  },
  {
   "cell_type": "markdown",
   "metadata": {},
   "source": [
    "<!-- END QUESTION -->\n",
    "\n",
    "---\n",
    "## 2. Explore"
   ]
  },
  {
   "cell_type": "markdown",
   "metadata": {},
   "source": [
    "For the purpose of visualizing the relationship between estimated gender gaps and socioeconomic variables, you'll find it more helpful to store a non-tidy version of the data. The cell below rearranges the dataset so that one column contains an estimated gap, one column contains the value of a socioeconomic variable, and the remaining columns record the gap type and variable identity. \n",
    "\n",
    "Ensure that your results from part 1 match the reference dataset before running this cell."
   ]
  },
  {
   "cell_type": "code",
   "execution_count": null,
   "metadata": {},
   "outputs": [],
   "source": [
    "# format data for plotting\n",
    "plot_df = data.melt(\n",
    "    id_vars = name_order[0:9],\n",
    "    value_vars = ['Math gap', 'Reading gap'],\n",
    "    var_name = 'Gap type',\n",
    "    value_name = 'Gap'\n",
    ").melt(\n",
    "    id_vars = ['District ID', 'District', 'Locale', 'Gap type', 'Gap', 'Grade'],\n",
    "    value_vars = name_order[3:8],\n",
    "    var_name = 'Socioeconomic variable',\n",
    "    value_name = 'Measure'\n",
    ")\n",
    "\n",
    "# preview\n",
    "plot_df.head()"
   ]
  },
  {
   "cell_type": "markdown",
   "metadata": {},
   "source": [
    "Altair, by default, limits the number of rows for input dataframes. We will need to disable this behavior in order to generate plots of this dataset."
   ]
  },
  {
   "cell_type": "code",
   "execution_count": null,
   "metadata": {},
   "outputs": [],
   "source": [
    "# disable row limit for plotting\n",
    "alt.data_transformers.disable_max_rows()"
   ]
  },
  {
   "cell_type": "markdown",
   "metadata": {},
   "source": [
    "### Relationship between gender gaps and socioeconomic factors\n",
    "\n",
    "The cell below generates a panel of scatterplots showing the relationship between estimated gender gap and socioeconomic factors for all grade levels by test subject. The plot suggests that the reading gap favors girls consistently across the socioeconomic spectrum -- in a typical district girls seem to outperform boys by 0.25 standard deviations of the national average. By contrast, the math gap appears to depend on socioeconomic factors -- boys only seem to outperform girls under *better* socioeconomic conditions.  "
   ]
  },
  {
   "cell_type": "code",
   "execution_count": null,
   "metadata": {},
   "outputs": [],
   "source": [
    "# plot gap against socioeconomic variables by subject for all grades\n",
    "fig1 = alt.Chart(plot_df).mark_circle(opacity = 0.1).encode(\n",
    "    y = 'Gap',\n",
    "    x = alt.X('Measure', scale = alt.Scale(zero = False), title = ''),\n",
    "    color = 'Gap type'\n",
    ").properties(\n",
    "    width = 200,\n",
    "    height = 200\n",
    ").facet(\n",
    "    column = alt.Column('Socioeconomic variable')\n",
    ").resolve_scale(x = 'independent')\n",
    "\n",
    "fig1"
   ]
  },
  {
   "cell_type": "markdown",
   "metadata": {},
   "source": [
    "### Q2 (a). Relationships by grade level\n",
    "\n",
    "Does the pattern shown in the plot above persist within each grade level? "
   ]
  },
  {
   "cell_type": "markdown",
   "metadata": {},
   "source": [
    "<!-- BEGIN QUESTION -->\n",
    "\n",
    "\n",
    "#### (i)\n",
    "Modify the plot above to show these relationships by grade level: generate a panel of scatterplots of gap against socioeconomic measures by subject, where each column of the panel corresponds to one socioeconomic variable and each row corresponds to one grade level; the result should by a 5x5 panel. Resize the width and height of each facet so that the panel is of reasonable size.\n",
    "\n",
    "(*Hint*: you may find it useful to have a look at the [altair documentation on compound charts](https://altair-viz.github.io/user_guide/compound_charts.html), and lab 2, for examples to follow.)\n",
    "\n"
   ]
  },
  {
   "cell_type": "code",
   "execution_count": null,
   "metadata": {
    "tags": []
   },
   "outputs": [],
   "source": [
    "# plotting codes here\n",
    "...\n",
    "\n",
    "# display\n",
    "fig2a"
   ]
  },
  {
   "cell_type": "markdown",
   "metadata": {},
   "source": [
    "<!-- END QUESTION -->\n",
    "\n",
    "<!-- BEGIN QUESTION -->\n",
    "\n",
    "#### (ii) is the pattern consistent across grade level?\n"
   ]
  },
  {
   "cell_type": "markdown",
   "metadata": {},
   "source": [
    "_Type your answer here, replacing this text._"
   ]
  },
  {
   "cell_type": "markdown",
   "metadata": {},
   "source": [
    "<!-- END QUESTION -->\n",
    "\n",
    "<!-- BEGIN QUESTION -->\n",
    "\n",
    "### Q2 (b). Do gaps shift across grade levels?\n",
    "\n",
    "#### (i)\n",
    "Construct a 2x5 panel of scatterplots showing estimated achievement gap against each of the 5 socioeconomic variables, with one row per test subject. Display grade level using a color gradient.\n",
    "\n",
    "(*Hint:* plot gap against measure, facet by gap type (rows) and socioeconomic variable (columns), and color by grade.)\n"
   ]
  },
  {
   "cell_type": "code",
   "execution_count": null,
   "metadata": {
    "tags": []
   },
   "outputs": [],
   "source": [
    "# plotting codes here\n",
    "...\n",
    "\n",
    "\n",
    "# display\n",
    "fig2b"
   ]
  },
  {
   "cell_type": "markdown",
   "metadata": {},
   "source": [
    "<!-- END QUESTION -->\n",
    "\n",
    "<!-- BEGIN QUESTION -->\n",
    "\n",
    "#### (ii) Do the gaps seem to shift with grade level?\n"
   ]
  },
  {
   "cell_type": "markdown",
   "metadata": {},
   "source": [
    "_Type your answer here, replacing this text._"
   ]
  },
  {
   "cell_type": "markdown",
   "metadata": {},
   "source": [
    "<!-- END QUESTION -->\n",
    "\n",
    "### Aggregating by grade\n",
    "\n",
    "While the magnitude of the achievement gaps seems to depend very slightly on grade level (figure 2b), the *relationship* between achievement gap and socioeconomic factors does not differ from grade to grade (figure 2a). In what follows, you'll look at the average relationship between estimated achievement gap and median income after aggregating across grade. The cell below computes the mean of each variable across grade levels for each district. "
   ]
  },
  {
   "cell_type": "code",
   "execution_count": null,
   "metadata": {},
   "outputs": [],
   "source": [
    "# aggregate across grades\n",
    "data_agg = data.groupby(['District ID', 'District', 'Locale']).mean().reset_index().drop(columns = 'Grade')\n",
    "data_agg.head()"
   ]
  },
  {
   "cell_type": "markdown",
   "metadata": {},
   "source": [
    "Similar to working with the disaggregated data, it will be helpful for plotting to melt the two gap variables into a single column."
   ]
  },
  {
   "cell_type": "code",
   "execution_count": null,
   "metadata": {},
   "outputs": [],
   "source": [
    "# format for plotting\n",
    "agg_plot_df = data_agg.melt(\n",
    "    id_vars = name_order[0:7],\n",
    "    value_vars = ['Math gap', 'Reading gap'],\n",
    "    var_name = 'Subject',\n",
    "    value_name = 'Average estimated gap'\n",
    ")\n",
    "\n",
    "agg_plot_df.head()"
   ]
  },
  {
   "cell_type": "markdown",
   "metadata": {},
   "source": [
    "<!-- BEGIN QUESTION -->\n",
    "\n",
    "### Q2 (c). District average gaps\n",
    "\n",
    "Construct a scatterplot of the average estimated gap against log(Median income) by subject for each district and add trend lines.\n"
   ]
  },
  {
   "cell_type": "code",
   "execution_count": null,
   "metadata": {
    "tags": []
   },
   "outputs": [],
   "source": [
    "# scatterplot\n",
    "...\n",
    "\n",
    "# trend line\n",
    "trend = ...\n",
    "\n",
    "# combine layers\n",
    "fig2c = ...\n",
    "\n",
    "# display\n",
    "fig2c"
   ]
  },
  {
   "cell_type": "markdown",
   "metadata": {},
   "source": [
    "<!-- END QUESTION -->\n",
    "\n",
    "Now let's try to capture this pattern in *tabular* form. The cell below adds an `Income bracket` variable by cutting the median income into 8 contiguous intervals using `pd.cut()`, and tabulates the average socioeconomic measures and estimated gaps across districts by income bracket. Notice that with respect to the gaps, this displays the pattern that is shown visually in the figures above. "
   ]
  },
  {
   "cell_type": "code",
   "execution_count": null,
   "metadata": {},
   "outputs": [],
   "source": [
    "data_agg['Income bracket'] = pd.cut(np.e**data_agg['log(Median income)'], 8)\n",
    "data_agg.groupby('Income bracket').mean().drop(columns = ['District ID', 'log(Median income)'])"
   ]
  },
  {
   "cell_type": "markdown",
   "metadata": {},
   "source": [
    "### Q2 (d). Proportion of districts with a math gap.\n",
    "\n",
    "What proportion of districts in each income bracket have an average estimated math achievement gap favoring boys? Answer this question by performing the following steps:\n",
    "\n",
    "* Append an indicator variable `Math gap favoring boys` to `data_agg` that records whether the average estimated math gap favors boys by more than 0.1 standard deviations relative to the national average.\n",
    "* Compute the proportion of districts in each income bracket for which the indicator is true: group by bracket and take the mean. Store this as `income_bracket_boys_favored`\n"
   ]
  },
  {
   "cell_type": "code",
   "execution_count": null,
   "metadata": {
    "tags": []
   },
   "outputs": [],
   "source": [
    "# define indicator\n",
    "...\n",
    "\n",
    "# proportion of districts with gap favoring boys, by income bracket\n",
    "income_bracket_boys_favored = ..."
   ]
  },
  {
   "cell_type": "code",
   "execution_count": null,
   "metadata": {
    "deletable": false,
    "editable": false
   },
   "outputs": [],
   "source": [
    "grader.check(\"q2_d\")"
   ]
  },
  {
   "cell_type": "markdown",
   "metadata": {},
   "source": [
    "### Q2 (e). Statewide averages\n",
    "\n",
    "To wrap up the exploration, calculate a few statewide averages to get a sense of how some of the patterns above compare with the state as a whole.\n",
    "\n",
    "#### (i) Compute the statewide average estimated achievement gaps.\n",
    "Store the result as `state_avg`.\n"
   ]
  },
  {
   "cell_type": "code",
   "execution_count": null,
   "metadata": {
    "tags": []
   },
   "outputs": [],
   "source": [
    "# statewide average\n",
    "state_avg = ..."
   ]
  },
  {
   "cell_type": "code",
   "execution_count": null,
   "metadata": {
    "deletable": false,
    "editable": false
   },
   "outputs": [],
   "source": [
    "grader.check(\"q2_e_i\")"
   ]
  },
  {
   "cell_type": "markdown",
   "metadata": {},
   "source": [
    "#### (ii)  Compute the proportion of districts in the state with a math gap favoring boys.\n",
    "Store this result as `math_boys_proportion`\n"
   ]
  },
  {
   "cell_type": "code",
   "execution_count": null,
   "metadata": {
    "tags": []
   },
   "outputs": [],
   "source": [
    "# proportion of districts in the state with a math gap favoring boys\n",
    "math_boys_proportion = ..."
   ]
  },
  {
   "cell_type": "code",
   "execution_count": null,
   "metadata": {
    "deletable": false,
    "editable": false
   },
   "outputs": [],
   "source": [
    "grader.check(\"q2_e_ii\")"
   ]
  },
  {
   "cell_type": "markdown",
   "metadata": {},
   "source": [
    "#### (iii)  Compute the proportion of districts in the state with a math gap favoring girls.\n",
    "\n",
    "You will need to define a new indicator within `data_agg` to perform this calculation.\n"
   ]
  },
  {
   "cell_type": "code",
   "execution_count": null,
   "metadata": {
    "tags": []
   },
   "outputs": [],
   "source": [
    "# new indicator\n",
    "...\n",
    "\n",
    "# proportion of districts in the state with a math gap favoring girls\n",
    "math_girls_proportion = ..."
   ]
  },
  {
   "cell_type": "code",
   "execution_count": null,
   "metadata": {
    "deletable": false,
    "editable": false
   },
   "outputs": [],
   "source": [
    "grader.check(\"q2_e_iii\")"
   ]
  },
  {
   "cell_type": "markdown",
   "metadata": {},
   "source": [
    "---\n",
    "## 3. Communicating results\n",
    "\n",
    "Take a moment to review and reflect on your findings, and then answer the questions below."
   ]
  },
  {
   "cell_type": "markdown",
   "metadata": {},
   "source": [
    "<!-- BEGIN QUESTION -->\n",
    "\n",
    "### Q3 (a). Summary\n",
    "\n",
    "Write a brief summary of your exploratory analysis. What have you discovered about educational achievement gaps in California school districts? Aim to answer in 3-5 sentences or less.\n"
   ]
  },
  {
   "cell_type": "markdown",
   "metadata": {},
   "source": [
    "_Type your answer here, replacing this text._"
   ]
  },
  {
   "cell_type": "markdown",
   "metadata": {},
   "source": [
    "<!-- END QUESTION -->\n",
    "\n",
    "<!-- BEGIN QUESTION -->\n",
    "\n",
    "### Q3 (b). Hypothesize!\n",
    "\n",
    "It's a cliche in statistics that 'correlation is not causation'. In your exploratory analysis, you identified a correlation between socioeconomic factors and achievement gaps. But clearly, affluence does not directly cause a math achievement gap favoring boys. What factors do you think might explain this association?\n"
   ]
  },
  {
   "cell_type": "markdown",
   "metadata": {},
   "source": [
    "_Type your answer here, replacing this text._"
   ]
  },
  {
   "cell_type": "markdown",
   "metadata": {},
   "source": [
    "<!-- END QUESTION -->\n",
    "\n",
    "---\n",
    "## Submission\n",
    "\n",
    "1. Save file to confirm all changes are on disk\n",
    "2. Run *Kernel > Restart & Run All* to execute all code from top to bottom\n",
    "3. Save file again to write any new output to disk\n",
    "4. Generate PDF copy\n",
    "5. Submit both notebook and PDF to Gradescope"
   ]
  },
  {
   "cell_type": "markdown",
   "metadata": {
    "deletable": false,
    "editable": false
   },
   "source": [
    "---\n",
    "\n",
    "To double-check your work, the cell below will rerun all of the autograder tests."
   ]
  },
  {
   "cell_type": "code",
   "execution_count": null,
   "metadata": {
    "deletable": false,
    "editable": false
   },
   "outputs": [],
   "source": [
    "grader.check_all()"
   ]
  }
 ],
 "metadata": {
  "kernelspec": {
   "display_name": "Python 3",
   "language": "python",
   "name": "python3"
  },
  "language_info": {
   "codemirror_mode": {
    "name": "ipython",
    "version": 3
   },
   "file_extension": ".py",
   "mimetype": "text/x-python",
   "name": "python",
   "nbconvert_exporter": "python",
   "pygments_lexer": "ipython3",
   "version": "3.8.5"
  },
  "otter": {
   "tests": {
    "q0_c": {
     "name": "q0_c",
     "points": 1,
     "suites": [
      {
       "cases": [
        {
         "code": ">>> # number of districts provided are between 900 and 1000\n>>> 900 < ca_cov_units < 1000\nTrue",
         "hidden": false,
         "locked": false
        },
        {
         "code": ">>> # number of districts provided are between 800 and 900\n>>> 800 < ca_main_units < 900\nTrue",
         "hidden": false,
         "locked": false
        }
       ],
       "scored": true,
       "setup": "",
       "teardown": "",
       "type": "doctest"
      }
     ]
    },
    "q1_a": {
     "name": "q1_a",
     "points": 1,
     "suites": [
      {
       "cases": [
        {
         "code": ">>> #checking that the district ID is in both lists\n>>> (\"sedalea\" in main_vars) and (\"sedalea\" in cov_vars) \nTrue",
         "hidden": false,
         "locked": false
        },
        {
         "code": ">>> # number of variables found for the test score data is 5\n>>> len(main_vars) == 5\nTrue",
         "hidden": false,
         "locked": false
        },
        {
         "code": ">>> # number of variables found for the covariate score data is 5\n>>> len(cov_vars) == 8\nTrue",
         "hidden": false,
         "locked": false
        }
       ],
       "scored": true,
       "setup": "",
       "teardown": "",
       "type": "doctest"
      }
     ]
    },
    "q1_b": {
     "name": "q1_b",
     "points": 1,
     "suites": [
      {
       "cases": [
        {
         "code": ">>> # checking that we are using the variable lists created before to subset ca_main\n>>> (main_sub.columns == main_vars).all() \nTrue",
         "hidden": false,
         "locked": false
        },
        {
         "code": ">>> # the number of columns should be the number of variables found for test score data\n>>> main_sub.shape == (7513,5)\nTrue",
         "hidden": false,
         "locked": false
        },
        {
         "code": ">>> # checking that we are using the variable lists created before to subset ca_cov\n>>> (cov_sub.columns == cov_vars).all() \nTrue",
         "hidden": false,
         "locked": false
        },
        {
         "code": ">>> # the number of columns should be the number of variables found for covariate score data\n>>> cov_sub.shape == (4340,8)\nTrue",
         "hidden": false,
         "locked": false
        }
       ],
       "scored": true,
       "setup": "",
       "teardown": "",
       "type": "doctest"
      }
     ]
    },
    "q1_c": {
     "name": "q1_c",
     "points": 1,
     "suites": [
      {
       "cases": [
        {
         "code": ">>> # number of rows of the rawdata dataframe after merging the two dataframes is equivalent to the number of rows of the main dataframe\n>>> rawdata.shape[0] == main_sub.shape[0]\nTrue",
         "hidden": false,
         "locked": false
        },
        {
         "code": ">>> # columns of rawdata is the union of the columns of both of the merged dataframes\n>>> rawdata.shape[0] == main_sub.shape[0] \nTrue",
         "hidden": false,
         "locked": false
        }
       ],
       "scored": true,
       "setup": "",
       "teardown": "",
       "type": "doctest"
      }
     ]
    },
    "q1_d": {
     "name": "q1_d",
     "points": 1,
     "suites": [
      {
       "cases": [
        {
         "code": ">>> (rawdata_mod1.columns == ['District ID', 'District', 'Locale', 'log(Median income)', 'Poverty rate', 'Unemployment rate', 'SNAP rate', 'Socioeconomic index', 'Grade', 'Subject', 'Gender gap']).all()\nTrue",
         "hidden": false,
         "locked": false
        },
        {
         "code": ">>> #number of rows is the same as rawdata; only difference should be the labeling and order of columns\n>>> rawdata_mod1.shape[0] == 7513\nTrue",
         "hidden": false,
         "locked": false
        },
        {
         "code": ">>> #number of columns of rawdata_mod1 should be the same as rawdata\n>>> rawdata_mod1.shape[1] == 11\nTrue",
         "hidden": false,
         "locked": false
        }
       ],
       "scored": true,
       "setup": "",
       "teardown": "",
       "type": "doctest"
      }
     ]
    },
    "q1_e": {
     "name": "q1_e",
     "points": 1,
     "suites": [
      {
       "cases": [
        {
         "code": ">>> # number of columns isn't changing\n>>> rawdata_mod2.shape[1] == 11\nTrue",
         "hidden": false,
         "locked": false
        },
        {
         "code": ">>> # rawdata_mod2 has replaced these columns, so they don't exist\n>>> (\"Subject\" not in rawdata_mod2.columns) and (\"Gender Gap\" not in rawdata_mod2.columns)\nTrue",
         "hidden": false,
         "locked": false
        },
        {
         "code": ">>> # Reading gap and Math gap should be columns in the dataframe\n>>> (\"Reading gap\" in rawdata_mod2.columns) and (\"Math gap\" in rawdata_mod2.columns)\nTrue",
         "hidden": false,
         "locked": false
        }
       ],
       "scored": true,
       "setup": "",
       "teardown": "",
       "type": "doctest"
      }
     ]
    },
    "q1_g": {
     "name": "q1_g",
     "points": 1,
     "suites": [
      {
       "cases": [
        {
         "code": ">>> # they should be equal\n>>> data_units == ca_main_units\nTrue",
         "hidden": false,
         "locked": false
        }
       ],
       "scored": true,
       "setup": "",
       "teardown": "",
       "type": "doctest"
      }
     ]
    },
    "q1_h_i": {
     "name": "q1_h_i",
     "points": 1,
     "suites": [
      {
       "cases": [
        {
         "code": ">>> # the proportion of missing district math scores is within this interval\n>>> 0 < math_missing < 0.5\nTrue",
         "hidden": false,
         "locked": false
        },
        {
         "code": ">>> # the proportion of missing district reading scores is within this interval\n>>> 0 < reading_missing < 0.5\nTrue",
         "hidden": false,
         "locked": false
        }
       ],
       "scored": true,
       "setup": "",
       "teardown": "",
       "type": "doctest"
      }
     ]
    },
    "q1_h_ii": {
     "name": "q1_h_ii",
     "points": 1,
     "suites": [
      {
       "cases": [
        {
         "code": ">>> # the proportion of districts with at least one missing score is within this interval\n>>> 0.5 < district_missing < 0.6\nTrue",
         "hidden": false,
         "locked": false
        }
       ],
       "scored": true,
       "setup": "",
       "teardown": "",
       "type": "doctest"
      }
     ]
    },
    "q2_d": {
     "name": "q2_d",
     "points": 1,
     "suites": [
      {
       "cases": [
        {
         "code": ">>> # the number of columns for data_agg has increased\n>>> data_agg.shape[1] > 11\nTrue",
         "hidden": false,
         "locked": false
        },
        {
         "code": ">>> # the new column added is a boolean that indicates whether the math gap favors boys for that district and income bracket\n>>> data_agg[\"Math gap favoring boys\"].dtype == \"bool\"\nTrue",
         "hidden": false,
         "locked": false
        },
        {
         "code": ">>> # the number of rows (income bracket levels) is 8 and the number of columns is 2\n>>> income_bracket_boys_favored.shape == (8,2)\nTrue",
         "hidden": false,
         "locked": false
        }
       ],
       "scored": true,
       "setup": "",
       "teardown": "",
       "type": "doctest"
      }
     ]
    },
    "q2_e_i": {
     "name": "q2_e_i",
     "points": 1,
     "suites": [
      {
       "cases": [
        {
         "code": ">>> # will be subset by Reading Gap and Math Gap\n>>> state_avg.shape == (2,)\nTrue",
         "hidden": false,
         "locked": false
        },
        {
         "code": ">>> # average shows that girls do better\n>>> -0.5 < state_avg[\"Reading gap\"] < 0\nTrue",
         "hidden": false,
         "locked": false
        },
        {
         "code": ">>> # average shows that girls do better\n>>> -0.1 < state_avg[\"Math gap\"] < 0\nTrue",
         "hidden": false,
         "locked": false
        }
       ],
       "scored": true,
       "setup": "",
       "teardown": "",
       "type": "doctest"
      }
     ]
    },
    "q2_e_ii": {
     "name": "q2_e_ii",
     "points": 1,
     "suites": [
      {
       "cases": [
        {
         "code": ">>> # the proportion of districts that favors boys is within this interval\n>>> 0 < math_boys_proportion < 0.1\nTrue",
         "hidden": false,
         "locked": false
        }
       ],
       "scored": true,
       "setup": "",
       "teardown": "",
       "type": "doctest"
      }
     ]
    },
    "q2_e_iii": {
     "name": "q2_e_iii",
     "points": 1,
     "suites": [
      {
       "cases": [
        {
         "code": ">>> # the proportion of districts that favors girls is within this interval\n>>> 0.1 < math_girls_proportion < 0.2\nTrue",
         "hidden": false,
         "locked": false
        }
       ],
       "scored": true,
       "setup": "",
       "teardown": "",
       "type": "doctest"
      }
     ]
    }
   }
  }
 },
 "nbformat": 4,
 "nbformat_minor": 4
}
